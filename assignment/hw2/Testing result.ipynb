{
 "cells": [
  {
   "cell_type": "markdown",
   "metadata": {},
   "source": [
    "# Testing result"
   ]
  },
  {
   "cell_type": "code",
   "execution_count": 1,
   "metadata": {},
   "outputs": [],
   "source": [
    "from DE_algorithm import Diff_Evo\n",
    "from PSO_algorithm import PSO\n",
    "from FA_algorithm import FA\n",
    "\n",
    "import matplotlib.pyplot as plt"
   ]
  },
  {
   "cell_type": "markdown",
   "metadata": {},
   "source": [
    "# 1. DE"
   ]
  },
  {
   "cell_type": "code",
   "execution_count": 2,
   "metadata": {},
   "outputs": [
    {
     "name": "stderr",
     "output_type": "stream",
     "text": [
      "100%|██████████| 50/50 [00:01<00:00, 36.12it/s]\n"
     ]
    }
   ],
   "source": [
    "de_mod = Diff_Evo(weight_F=0.6,pop_size=100)\n",
    "de_result = de_mod.forward(50)"
   ]
  },
  {
   "cell_type": "code",
   "execution_count": 3,
   "metadata": {},
   "outputs": [
    {
     "data": {
      "text/plain": [
       "(1617.530232307295,\n",
       " array([ 0.22771257,  1.39372332, 18.40291373,  0.33333333,  0.33333333,\n",
       "         0.33333333]))"
      ]
     },
     "execution_count": 3,
     "metadata": {},
     "output_type": "execute_result"
    }
   ],
   "source": [
    "de_result['max_value'], de_result['parameter']"
   ]
  },
  {
   "cell_type": "markdown",
   "metadata": {},
   "source": [
    "# 2. PSO"
   ]
  },
  {
   "cell_type": "code",
   "execution_count": 4,
   "metadata": {},
   "outputs": [
    {
     "name": "stderr",
     "output_type": "stream",
     "text": [
      "100%|██████████| 50/50 [00:00<00:00, 82.56it/s]\n"
     ]
    }
   ],
   "source": [
    "pso_mod = PSO(pop_size=50)\n",
    "pso_result = pso_mod.forward(50)"
   ]
  },
  {
   "cell_type": "code",
   "execution_count": 5,
   "metadata": {},
   "outputs": [
    {
     "data": {
      "text/plain": [
       "(1617.569173447983,\n",
       " array([ 0.22861263,  1.38382395, 18.42200601,  0.3337342 ,  0.33270615,\n",
       "         0.33355965]))"
      ]
     },
     "execution_count": 5,
     "metadata": {},
     "output_type": "execute_result"
    }
   ],
   "source": [
    "pso_result['max_value'], pso_result['parameter']"
   ]
  },
  {
   "cell_type": "markdown",
   "metadata": {},
   "source": [
    "# 3. FA"
   ]
  },
  {
   "cell_type": "code",
   "execution_count": 6,
   "metadata": {},
   "outputs": [
    {
     "name": "stderr",
     "output_type": "stream",
     "text": [
      "100%|██████████| 50/50 [00:04<00:00, 12.23it/s]\n"
     ]
    }
   ],
   "source": [
    "fa_mod = FA(pop_size=30,beta=2,alpha=0.1,gamma=0.05,theta=0.99)\n",
    "fa_result = fa_mod.forward(50)"
   ]
  },
  {
   "cell_type": "code",
   "execution_count": 7,
   "metadata": {},
   "outputs": [
    {
     "data": {
      "text/plain": [
       "(1609.9501690324064,\n",
       " array([ 0.21917905,  1.37112618, 17.86598229,  0.34674163,  0.33499472,\n",
       "         0.31826364]))"
      ]
     },
     "execution_count": 7,
     "metadata": {},
     "output_type": "execute_result"
    }
   ],
   "source": [
    "fa_result['max_value'], fa_result['parameter']"
   ]
  },
  {
   "cell_type": "markdown",
   "metadata": {},
   "source": [
    "# Overall plot"
   ]
  },
  {
   "cell_type": "code",
   "execution_count": 10,
   "metadata": {},
   "outputs": [
    {
     "data": {
      "image/png": "[encoded data removed]",
      "text/plain": [
       "<Figure size 576x432 with 1 Axes>"
      ]
     },
     "metadata": {
      "needs_background": "light"
     },
     "output_type": "display_data"
    }
   ],
   "source": [
    "plt.figure(figsize=(8,6))\n",
    "plt.plot(range(1,51),de_result['global_best_each_iter'],label=\"DE\")\n",
    "plt.plot(range(1,51),pso_result['global_best_each_iter'],label=\"PSO\")\n",
    "plt.plot(range(1,51),fa_result['global_best_each_iter'],label=\"FA\")\n",
    "plt.legend()\n",
    "plt.xlabel(\"iteration number\")\n",
    "plt.ylabel(\"current best\")\n",
    "plt.show()"
   ]
  }
 ],
 "metadata": {
  "kernelspec": {
   "display_name": "Python 3",
   "language": "python",
   "name": "python3"
  },
  "language_info": {
   "codemirror_mode": {
    "name": "ipython",
    "version": 3
   },
   "file_extension": ".py",
   "mimetype": "text/x-python",
   "name": "python",
   "nbconvert_exporter": "python",
   "pygments_lexer": "ipython3",
   "version": "3.8.5"
  }
 },
 "nbformat": 4,
 "nbformat_minor": 4
}
