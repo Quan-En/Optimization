{
 "cells": [
  {
   "cell_type": "code",
   "execution_count": 1,
   "metadata": {},
   "outputs": [
    {
     "data": {
      "application/javascript": [
       "\n",
       "            setTimeout(function() {\n",
       "                var nbb_cell_id = 1;\n",
       "                var nbb_unformatted_code = \"%load_ext nb_black\";\n",
       "                var nbb_formatted_code = \"%load_ext nb_black\";\n",
       "                var nbb_cells = Jupyter.notebook.get_cells();\n",
       "                for (var i = 0; i < nbb_cells.length; ++i) {\n",
       "                    if (nbb_cells[i].input_prompt_number == nbb_cell_id) {\n",
       "                        if (nbb_cells[i].get_text() == nbb_unformatted_code) {\n",
       "                             nbb_cells[i].set_text(nbb_formatted_code);\n",
       "                        }\n",
       "                        break;\n",
       "                    }\n",
       "                }\n",
       "            }, 500);\n",
       "            "
      ],
      "text/plain": [
       "<IPython.core.display.Javascript object>"
      ]
     },
     "metadata": {},
     "output_type": "display_data"
    }
   ],
   "source": [
    "%load_ext nb_black"
   ]
  },
  {
   "cell_type": "markdown",
   "metadata": {},
   "source": [
    "# Cuckoo Search Algorithm"
   ]
  },
  {
   "cell_type": "code",
   "execution_count": 2,
   "metadata": {},
   "outputs": [
    {
     "data": {
      "application/javascript": [
       "\n",
       "            setTimeout(function() {\n",
       "                var nbb_cell_id = 2;\n",
       "                var nbb_unformatted_code = \"import torch\\nfrom torch import normal, randint, rand, multinomial\\nfrom math import pi, cos, sin, gamma\\nfrom tqdm import tqdm\\nfrom random import choices\";\n",
       "                var nbb_formatted_code = \"import torch\\nfrom torch import normal, randint, rand, multinomial\\nfrom math import pi, cos, sin, gamma\\nfrom tqdm import tqdm\\nfrom random import choices\";\n",
       "                var nbb_cells = Jupyter.notebook.get_cells();\n",
       "                for (var i = 0; i < nbb_cells.length; ++i) {\n",
       "                    if (nbb_cells[i].input_prompt_number == nbb_cell_id) {\n",
       "                        if (nbb_cells[i].get_text() == nbb_unformatted_code) {\n",
       "                             nbb_cells[i].set_text(nbb_formatted_code);\n",
       "                        }\n",
       "                        break;\n",
       "                    }\n",
       "                }\n",
       "            }, 500);\n",
       "            "
      ],
      "text/plain": [
       "<IPython.core.display.Javascript object>"
      ]
     },
     "metadata": {},
     "output_type": "display_data"
    }
   ],
   "source": [
    "import torch\n",
    "from torch import normal, randint, rand, multinomial\n",
    "from math import pi, cos, sin, gamma\n",
    "from tqdm import tqdm\n",
    "from random import choices"
   ]
  },
  {
   "cell_type": "code",
   "execution_count": 3,
   "metadata": {},
   "outputs": [
    {
     "data": {
      "application/javascript": [
       "\n",
       "            setTimeout(function() {\n",
       "                var nbb_cell_id = 3;\n",
       "                var nbb_unformatted_code = \"from obj_f import ackley_f, weierstrass_f\";\n",
       "                var nbb_formatted_code = \"from obj_f import ackley_f, weierstrass_f\";\n",
       "                var nbb_cells = Jupyter.notebook.get_cells();\n",
       "                for (var i = 0; i < nbb_cells.length; ++i) {\n",
       "                    if (nbb_cells[i].input_prompt_number == nbb_cell_id) {\n",
       "                        if (nbb_cells[i].get_text() == nbb_unformatted_code) {\n",
       "                             nbb_cells[i].set_text(nbb_formatted_code);\n",
       "                        }\n",
       "                        break;\n",
       "                    }\n",
       "                }\n",
       "            }, 500);\n",
       "            "
      ],
      "text/plain": [
       "<IPython.core.display.Javascript object>"
      ]
     },
     "metadata": {},
     "output_type": "display_data"
    }
   ],
   "source": [
    "from obj_f import ackley_f, weierstrass_f"
   ]
  },
  {
   "cell_type": "code",
   "execution_count": 104,
   "metadata": {},
   "outputs": [
    {
     "data": {
      "application/javascript": [
       "\n",
       "            setTimeout(function() {\n",
       "                var nbb_cell_id = 104;\n",
       "                var nbb_unformatted_code = \"# %load obj_f.py\\n\\nimport torch \\nfrom math import pi, cos, sin, gamma\\n\\ndef ackley_f(x):\\n    # x = x.cuda()\\n    if len(x.shape) == 1:\\n        x = x.unsqueeze(1)\\n\\n    lhs = 20 * torch.exp((-0.2) * torch.sqrt((x ** 2).mean()))\\n    rhs = torch.cos(2 * pi * x).mean().exp()\\n    result = -1 * (lhs + rhs) + 20 + torch.exp(torch.Tensor([1]))  # .cuda()\\n\\n    return result\\n\\ndef weierstrass_f(x, a=0.5, b=3, kmax=20):\\n    # x = x.cuda()\\n    x = (x*0.5)/100\\n    if len(x.shape) == 1:\\n        x = x.unsqueeze(1)\\n\\n    D = x.shape[0]\\n\\n    lhs = 0\\n    rhs = 0\\n    for k in range(kmax):\\n        lhs += torch.sum((a ** k) * torch.cos(2 * pi * (b ** k) * (x + 0.5)))\\n        rhs += (a ** k) * torch.cos(torch.Tensor([pi * (b ** k)]))\\n    result = lhs - D * rhs + 600\\n    return result\";\n",
       "                var nbb_formatted_code = \"# %load obj_f.py\\n\\nimport torch\\nfrom math import pi, cos, sin, gamma\\n\\n\\ndef ackley_f(x):\\n    # x = x.cuda()\\n    if len(x.shape) == 1:\\n        x = x.unsqueeze(1)\\n\\n    lhs = 20 * torch.exp((-0.2) * torch.sqrt((x ** 2).mean()))\\n    rhs = torch.cos(2 * pi * x).mean().exp()\\n    result = -1 * (lhs + rhs) + 20 + torch.exp(torch.Tensor([1]))  # .cuda()\\n\\n    return result\\n\\n\\ndef weierstrass_f(x, a=0.5, b=3, kmax=20):\\n    # x = x.cuda()\\n    x = (x * 0.5) / 100\\n    if len(x.shape) == 1:\\n        x = x.unsqueeze(1)\\n\\n    D = x.shape[0]\\n\\n    lhs = 0\\n    rhs = 0\\n    for k in range(kmax):\\n        lhs += torch.sum((a ** k) * torch.cos(2 * pi * (b ** k) * (x + 0.5)))\\n        rhs += (a ** k) * torch.cos(torch.Tensor([pi * (b ** k)]))\\n    result = lhs - D * rhs + 600\\n    return result\";\n",
       "                var nbb_cells = Jupyter.notebook.get_cells();\n",
       "                for (var i = 0; i < nbb_cells.length; ++i) {\n",
       "                    if (nbb_cells[i].input_prompt_number == nbb_cell_id) {\n",
       "                        if (nbb_cells[i].get_text() == nbb_unformatted_code) {\n",
       "                             nbb_cells[i].set_text(nbb_formatted_code);\n",
       "                        }\n",
       "                        break;\n",
       "                    }\n",
       "                }\n",
       "            }, 500);\n",
       "            "
      ],
      "text/plain": [
       "<IPython.core.display.Javascript object>"
      ]
     },
     "metadata": {},
     "output_type": "display_data"
    }
   ],
   "source": [
    "# %load obj_f.py\n",
    "\n",
    "import torch\n",
    "from math import pi, cos, sin, gamma\n",
    "\n",
    "\n",
    "def ackley_f(x):\n",
    "    # x = x.cuda()\n",
    "    if len(x.shape) == 1:\n",
    "        x = x.unsqueeze(1)\n",
    "\n",
    "    lhs = 20 * torch.exp((-0.2) * torch.sqrt((x ** 2).mean()))\n",
    "    rhs = torch.cos(2 * pi * x).mean().exp()\n",
    "    result = -1 * (lhs + rhs) + 20 + torch.exp(torch.Tensor([1]))  # .cuda()\n",
    "\n",
    "    return result\n",
    "\n",
    "\n",
    "def weierstrass_f(x, a=0.5, b=3, kmax=20):\n",
    "    # x = x.cuda()\n",
    "    x = (x * 0.5) / 100\n",
    "    if len(x.shape) == 1:\n",
    "        x = x.unsqueeze(1)\n",
    "\n",
    "    D = x.shape[0]\n",
    "\n",
    "    lhs = 0\n",
    "    rhs = 0\n",
    "    for k in range(kmax):\n",
    "        lhs += torch.sum((a ** k) * torch.cos(2 * pi * (b ** k) * (x + 0.5)))\n",
    "        rhs += (a ** k) * torch.cos(torch.Tensor([pi * (b ** k)]))\n",
    "    result = lhs - D * rhs + 600\n",
    "    return result"
   ]
  },
  {
   "cell_type": "code",
   "execution_count": 4,
   "metadata": {},
   "outputs": [
    {
     "data": {
      "application/javascript": [
       "\n",
       "            setTimeout(function() {\n",
       "                var nbb_cell_id = 4;\n",
       "                var nbb_unformatted_code = \"def argmin(lst):\\n    return min(range(len(lst)), key=lst.__getitem__)\";\n",
       "                var nbb_formatted_code = \"def argmin(lst):\\n    return min(range(len(lst)), key=lst.__getitem__)\";\n",
       "                var nbb_cells = Jupyter.notebook.get_cells();\n",
       "                for (var i = 0; i < nbb_cells.length; ++i) {\n",
       "                    if (nbb_cells[i].input_prompt_number == nbb_cell_id) {\n",
       "                        if (nbb_cells[i].get_text() == nbb_unformatted_code) {\n",
       "                             nbb_cells[i].set_text(nbb_formatted_code);\n",
       "                        }\n",
       "                        break;\n",
       "                    }\n",
       "                }\n",
       "            }, 500);\n",
       "            "
      ],
      "text/plain": [
       "<IPython.core.display.Javascript object>"
      ]
     },
     "metadata": {},
     "output_type": "display_data"
    }
   ],
   "source": [
    "def argmin(lst):\n",
    "    return min(range(len(lst)), key=lst.__getitem__)"
   ]
  },
  {
   "cell_type": "code",
   "execution_count": 79,
   "metadata": {},
   "outputs": [
    {
     "data": {
      "application/javascript": [
       "\n",
       "            setTimeout(function() {\n",
       "                var nbb_cell_id = 79;\n",
       "                var nbb_unformatted_code = \"class cuckoo_search(object):\\n    def __init__(\\n        self,\\n        function,\\n        pop_size=50,\\n        low_bound=-20,\\n        up_bound=20,\\n        dimension=10,\\n        alpha=0.1,\\n        pa=0.25,\\n        **kwargs\\n    ):\\n\\n        self.pop_size = pop_size\\n        self.low_bound = low_bound\\n        self.up_bound = up_bound\\n        self.dimension = dimension\\n        self.obj_f = function\\n        self.alpha = alpha\\n        self.pa = pa\\n\\n    def forward(self, iteration_time, **kwargs):\\n\\n        init_points_list = self.random_generate_sampe(size=self.pop_size)\\n        points_list = init_points_list[:]\\n\\n        function_values = [\\n            self.obj_f(sub_point, **kwargs) for sub_point in init_points_list\\n        ]\\n\\n        global_best_value_each_step = []\\n        global_best_point_each_step = []\\n        global_best_index = argmin(function_values)\\n        global_best_value_each_step.append(function_values[global_best_index])\\n        global_best_point_each_step.append(points_list[global_best_index])\\n\\n        for t in tqdm(range(iteration_time)):\\n            for i in range(self.pop_size):\\n                temp_point = points_list[i] + self.levy_fly()\\n                temp_point = self.adj_to_domain(temp_point)\\n                val = randint(high=self.pop_size, size=(1,))\\n                temp_value = self.obj_f(temp_point, **kwargs)\\n                if temp_value < function_values[val]:\\n                    points_list[val] = temp_point\\n                    function_values[val] = temp_value\\n\\n            worse_nest_index = sorted(\\n                range(len(function_values)), key=lambda k: function_values[k]\\n            )[: int(self.pop_size * self.pa)]\\n\\n            new_points_list = self.generate_new_point(points_list, worse_nest_index)\\n            for index, worse_index in enumerate(worse_nest_index):\\n                points_list[worse_index] = new_points_list[index]\\n\\n            function_values = [\\n                self.obj_f(sub_point, **kwargs) for sub_point in points_list\\n            ]\\n            min_index = argmin(function_values)\\n            global_best_value_each_step.append(function_values[min_index])\\n            global_best_point_each_step.append(points_list[min_index])\\n\\n        return (\\n            global_best_value_each_step,\\n            global_best_point_each_step,\\n        )\\n\\n    def levy_fly(\\n        self,\\n    ):\\n        beta = 1.5\\n        sigma_u = (\\n            (gamma(1 + beta) * sin(0.5 * pi * beta))\\n            / (gamma(0.5 * (1 + beta)) * beta * (2 ** (0.5 * (beta - 1))))\\n        ) ** (1 / beta)\\n        sigma_v = 1\\n        step_part1 = normal(0, sigma_u, (self.dimension, 1))\\n        step_part2 = normal(0, sigma_v, (self.dimension, 1))\\n        step = step_part1 / (torch.abs(step_part2) ** (1 / beta))\\n        return self.alpha * step\\n\\n    def generate_new_point(self, point_list, worse_points_index):\\n        number_of_new_points = len(worse_points_index)\\n        new_points = []\\n        for k in range(number_of_new_points):\\n            val = randint(high=self.pop_size, size=(2,))\\n            random_v = torch.nn.functional.relu(self.pa - rand(self.dimension, 1))\\n            new_points.append(\\n                point_list[worse_points_index[k]]\\n                + self.alpha\\n                * 0.005\\n                * random_v\\n                * (point_list[val[0]] - point_list[val[1]])\\n            )\\n        return new_points\\n\\n    def adj_to_domain(self, x):\\n        low_index = x[:, 0] < self.low_bound\\n        x[low_index, 0] = self.low_bound\\n        up_index = x[:, 0] > self.up_bound\\n        x[up_index, 0] = self.up_bound\\n        return x\\n\\n    def random_generate_sampe(self, size, *arg):\\n        init_points = (rand(self.dimension, size) - 0.5) * 40\\n        init_points = list(torch.split(init_points, split_size_or_sections=1, dim=1))\\n        return init_points\";\n",
       "                var nbb_formatted_code = \"class cuckoo_search(object):\\n    def __init__(\\n        self,\\n        function,\\n        pop_size=50,\\n        low_bound=-20,\\n        up_bound=20,\\n        dimension=10,\\n        alpha=0.1,\\n        pa=0.25,\\n        **kwargs\\n    ):\\n\\n        self.pop_size = pop_size\\n        self.low_bound = low_bound\\n        self.up_bound = up_bound\\n        self.dimension = dimension\\n        self.obj_f = function\\n        self.alpha = alpha\\n        self.pa = pa\\n\\n    def forward(self, iteration_time, **kwargs):\\n\\n        init_points_list = self.random_generate_sampe(size=self.pop_size)\\n        points_list = init_points_list[:]\\n\\n        function_values = [\\n            self.obj_f(sub_point, **kwargs) for sub_point in init_points_list\\n        ]\\n\\n        global_best_value_each_step = []\\n        global_best_point_each_step = []\\n        global_best_index = argmin(function_values)\\n        global_best_value_each_step.append(function_values[global_best_index])\\n        global_best_point_each_step.append(points_list[global_best_index])\\n\\n        for t in tqdm(range(iteration_time)):\\n            for i in range(self.pop_size):\\n                temp_point = points_list[i] + self.levy_fly()\\n                temp_point = self.adj_to_domain(temp_point)\\n                val = randint(high=self.pop_size, size=(1,))\\n                temp_value = self.obj_f(temp_point, **kwargs)\\n                if temp_value < function_values[val]:\\n                    points_list[val] = temp_point\\n                    function_values[val] = temp_value\\n\\n            worse_nest_index = sorted(\\n                range(len(function_values)), key=lambda k: function_values[k]\\n            )[: int(self.pop_size * self.pa)]\\n\\n            new_points_list = self.generate_new_point(points_list, worse_nest_index)\\n            for index, worse_index in enumerate(worse_nest_index):\\n                points_list[worse_index] = new_points_list[index]\\n\\n            function_values = [\\n                self.obj_f(sub_point, **kwargs) for sub_point in points_list\\n            ]\\n            min_index = argmin(function_values)\\n            global_best_value_each_step.append(function_values[min_index])\\n            global_best_point_each_step.append(points_list[min_index])\\n\\n        return (\\n            global_best_value_each_step,\\n            global_best_point_each_step,\\n        )\\n\\n    def levy_fly(\\n        self,\\n    ):\\n        beta = 1.5\\n        sigma_u = (\\n            (gamma(1 + beta) * sin(0.5 * pi * beta))\\n            / (gamma(0.5 * (1 + beta)) * beta * (2 ** (0.5 * (beta - 1))))\\n        ) ** (1 / beta)\\n        sigma_v = 1\\n        step_part1 = normal(0, sigma_u, (self.dimension, 1))\\n        step_part2 = normal(0, sigma_v, (self.dimension, 1))\\n        step = step_part1 / (torch.abs(step_part2) ** (1 / beta))\\n        return self.alpha * step\\n\\n    def generate_new_point(self, point_list, worse_points_index):\\n        number_of_new_points = len(worse_points_index)\\n        new_points = []\\n        for k in range(number_of_new_points):\\n            val = randint(high=self.pop_size, size=(2,))\\n            random_v = torch.nn.functional.relu(self.pa - rand(self.dimension, 1))\\n            new_points.append(\\n                point_list[worse_points_index[k]]\\n                + self.alpha\\n                * 0.005\\n                * random_v\\n                * (point_list[val[0]] - point_list[val[1]])\\n            )\\n        return new_points\\n\\n    def adj_to_domain(self, x):\\n        low_index = x[:, 0] < self.low_bound\\n        x[low_index, 0] = self.low_bound\\n        up_index = x[:, 0] > self.up_bound\\n        x[up_index, 0] = self.up_bound\\n        return x\\n\\n    def random_generate_sampe(self, size, *arg):\\n        init_points = (rand(self.dimension, size) - 0.5) * 40\\n        init_points = list(torch.split(init_points, split_size_or_sections=1, dim=1))\\n        return init_points\";\n",
       "                var nbb_cells = Jupyter.notebook.get_cells();\n",
       "                for (var i = 0; i < nbb_cells.length; ++i) {\n",
       "                    if (nbb_cells[i].input_prompt_number == nbb_cell_id) {\n",
       "                        if (nbb_cells[i].get_text() == nbb_unformatted_code) {\n",
       "                             nbb_cells[i].set_text(nbb_formatted_code);\n",
       "                        }\n",
       "                        break;\n",
       "                    }\n",
       "                }\n",
       "            }, 500);\n",
       "            "
      ],
      "text/plain": [
       "<IPython.core.display.Javascript object>"
      ]
     },
     "metadata": {},
     "output_type": "display_data"
    }
   ],
   "source": [
    "class cuckoo_search(object):\n",
    "    def __init__(\n",
    "        self,\n",
    "        function,\n",
    "        pop_size=50,\n",
    "        low_bound=-20,\n",
    "        up_bound=20,\n",
    "        dimension=10,\n",
    "        alpha=0.1,\n",
    "        pa=0.25,\n",
    "        **kwargs\n",
    "    ):\n",
    "\n",
    "        self.pop_size = pop_size\n",
    "        self.low_bound = low_bound\n",
    "        self.up_bound = up_bound\n",
    "        self.dimension = dimension\n",
    "        self.obj_f = function\n",
    "        self.alpha = alpha\n",
    "        self.pa = pa\n",
    "\n",
    "    def forward(self, iteration_time, **kwargs):\n",
    "\n",
    "        init_points_list = self.random_generate_sampe(size=self.pop_size)\n",
    "        points_list = init_points_list[:]\n",
    "\n",
    "        function_values = [\n",
    "            self.obj_f(sub_point, **kwargs) for sub_point in init_points_list\n",
    "        ]\n",
    "\n",
    "        global_best_value_each_step = []\n",
    "        global_best_point_each_step = []\n",
    "        global_best_index = argmin(function_values)\n",
    "        global_best_value_each_step.append(function_values[global_best_index])\n",
    "        global_best_point_each_step.append(points_list[global_best_index])\n",
    "\n",
    "        for t in tqdm(range(iteration_time)):\n",
    "            for i in range(self.pop_size):\n",
    "                temp_point = points_list[i] + self.levy_fly()\n",
    "                temp_point = self.adj_to_domain(temp_point)\n",
    "                val = randint(high=self.pop_size, size=(1,))\n",
    "                temp_value = self.obj_f(temp_point, **kwargs)\n",
    "                if temp_value < function_values[val]:\n",
    "                    points_list[val] = temp_point\n",
    "                    function_values[val] = temp_value\n",
    "\n",
    "            worse_nest_index = sorted(\n",
    "                range(len(function_values)), key=lambda k: function_values[k]\n",
    "            )[: int(self.pop_size * self.pa)]\n",
    "\n",
    "            new_points_list = self.generate_new_point(points_list, worse_nest_index)\n",
    "            for index, worse_index in enumerate(worse_nest_index):\n",
    "                points_list[worse_index] = new_points_list[index]\n",
    "\n",
    "            function_values = [\n",
    "                self.obj_f(sub_point, **kwargs) for sub_point in points_list\n",
    "            ]\n",
    "            min_index = argmin(function_values)\n",
    "            global_best_value_each_step.append(function_values[min_index])\n",
    "            global_best_point_each_step.append(points_list[min_index])\n",
    "\n",
    "        return (\n",
    "            global_best_value_each_step,\n",
    "            global_best_point_each_step,\n",
    "        )\n",
    "\n",
    "    def levy_fly(\n",
    "        self,\n",
    "    ):\n",
    "        beta = 1.5\n",
    "        sigma_u = (\n",
    "            (gamma(1 + beta) * sin(0.5 * pi * beta))\n",
    "            / (gamma(0.5 * (1 + beta)) * beta * (2 ** (0.5 * (beta - 1))))\n",
    "        ) ** (1 / beta)\n",
    "        sigma_v = 1\n",
    "        step_part1 = normal(0, sigma_u, (self.dimension, 1))\n",
    "        step_part2 = normal(0, sigma_v, (self.dimension, 1))\n",
    "        step = step_part1 / (torch.abs(step_part2) ** (1 / beta))\n",
    "        return self.alpha * step\n",
    "\n",
    "    def generate_new_point(self, point_list, worse_points_index):\n",
    "        number_of_new_points = len(worse_points_index)\n",
    "        new_points = []\n",
    "        for k in range(number_of_new_points):\n",
    "            val = randint(high=self.pop_size, size=(2,))\n",
    "            random_v = torch.nn.functional.relu(self.pa - rand(self.dimension, 1))\n",
    "            new_points.append(\n",
    "                point_list[worse_points_index[k]]\n",
    "                + self.alpha\n",
    "                * 0.005\n",
    "                * random_v\n",
    "                * (point_list[val[0]] - point_list[val[1]])\n",
    "            )\n",
    "        return new_points\n",
    "\n",
    "    def adj_to_domain(self, x):\n",
    "        low_index = x[:, 0] < self.low_bound\n",
    "        x[low_index, 0] = self.low_bound\n",
    "        up_index = x[:, 0] > self.up_bound\n",
    "        x[up_index, 0] = self.up_bound\n",
    "        return x\n",
    "\n",
    "    def random_generate_sampe(self, size, *arg):\n",
    "        init_points = (rand(self.dimension, size) - 0.5) * 40\n",
    "        init_points = list(torch.split(init_points, split_size_or_sections=1, dim=1))\n",
    "        return init_points"
   ]
  },
  {
   "cell_type": "code",
   "execution_count": 80,
   "metadata": {},
   "outputs": [
    {
     "data": {
      "application/javascript": [
       "\n",
       "            setTimeout(function() {\n",
       "                var nbb_cell_id = 80;\n",
       "                var nbb_unformatted_code = \"cso_ackley_10dim = cuckoo_search(function=ackley_f)\\ncso_ackley_20dim = cuckoo_search(function=ackley_f, dimension=20)\";\n",
       "                var nbb_formatted_code = \"cso_ackley_10dim = cuckoo_search(function=ackley_f)\\ncso_ackley_20dim = cuckoo_search(function=ackley_f, dimension=20)\";\n",
       "                var nbb_cells = Jupyter.notebook.get_cells();\n",
       "                for (var i = 0; i < nbb_cells.length; ++i) {\n",
       "                    if (nbb_cells[i].input_prompt_number == nbb_cell_id) {\n",
       "                        if (nbb_cells[i].get_text() == nbb_unformatted_code) {\n",
       "                             nbb_cells[i].set_text(nbb_formatted_code);\n",
       "                        }\n",
       "                        break;\n",
       "                    }\n",
       "                }\n",
       "            }, 500);\n",
       "            "
      ],
      "text/plain": [
       "<IPython.core.display.Javascript object>"
      ]
     },
     "metadata": {},
     "output_type": "display_data"
    }
   ],
   "source": [
    "cso_ackley_10dim = cuckoo_search(function=ackley_f)\n",
    "cso_ackley_20dim = cuckoo_search(function=ackley_f, dimension=20)"
   ]
  },
  {
   "cell_type": "code",
   "execution_count": 81,
   "metadata": {},
   "outputs": [
    {
     "name": "stderr",
     "output_type": "stream",
     "text": [
      "100%|██████████| 350/350 [00:15<00:00, 23.16it/s]\n",
      "100%|██████████| 350/350 [00:14<00:00, 24.50it/s]\n",
      "100%|██████████| 350/350 [00:16<00:00, 21.83it/s]\n",
      "100%|██████████| 350/350 [00:15<00:00, 22.43it/s]\n",
      "100%|██████████| 350/350 [00:14<00:00, 23.69it/s]\n",
      "100%|██████████| 350/350 [00:14<00:00, 24.20it/s]\n",
      "100%|██████████| 350/350 [00:15<00:00, 22.56it/s]\n",
      "100%|██████████| 350/350 [00:14<00:00, 23.40it/s]\n",
      "100%|██████████| 350/350 [00:14<00:00, 23.73it/s]\n",
      "100%|██████████| 350/350 [00:14<00:00, 24.41it/s]\n",
      "100%|██████████| 350/350 [00:14<00:00, 23.49it/s]\n",
      "100%|██████████| 350/350 [00:17<00:00, 20.42it/s]\n",
      "100%|██████████| 350/350 [00:14<00:00, 24.19it/s]\n",
      "100%|██████████| 350/350 [00:14<00:00, 23.60it/s]\n",
      "100%|██████████| 350/350 [00:15<00:00, 23.19it/s]\n",
      "100%|██████████| 350/350 [00:15<00:00, 22.73it/s]\n",
      "100%|██████████| 350/350 [00:16<00:00, 21.27it/s]\n",
      "100%|██████████| 350/350 [00:15<00:00, 22.35it/s]\n",
      "100%|██████████| 350/350 [00:16<00:00, 20.96it/s]\n",
      "100%|██████████| 350/350 [00:17<00:00, 20.53it/s]\n"
     ]
    },
    {
     "data": {
      "application/javascript": [
       "\n",
       "            setTimeout(function() {\n",
       "                var nbb_cell_id = 81;\n",
       "                var nbb_unformatted_code = \"all_values_list_ackley_10dim = []\\nfor i in range(20):\\n    values, points = cso_ackley_10dim.forward(350)\\n    all_values_list_ackley_10dim.append(torch.Tensor(values))\";\n",
       "                var nbb_formatted_code = \"all_values_list_ackley_10dim = []\\nfor i in range(20):\\n    values, points = cso_ackley_10dim.forward(350)\\n    all_values_list_ackley_10dim.append(torch.Tensor(values))\";\n",
       "                var nbb_cells = Jupyter.notebook.get_cells();\n",
       "                for (var i = 0; i < nbb_cells.length; ++i) {\n",
       "                    if (nbb_cells[i].input_prompt_number == nbb_cell_id) {\n",
       "                        if (nbb_cells[i].get_text() == nbb_unformatted_code) {\n",
       "                             nbb_cells[i].set_text(nbb_formatted_code);\n",
       "                        }\n",
       "                        break;\n",
       "                    }\n",
       "                }\n",
       "            }, 500);\n",
       "            "
      ],
      "text/plain": [
       "<IPython.core.display.Javascript object>"
      ]
     },
     "metadata": {},
     "output_type": "display_data"
    }
   ],
   "source": [
    "all_values_list_ackley_10dim = []\n",
    "for i in range(20):\n",
    "    values, points = cso_ackley_10dim.forward(350)\n",
    "    all_values_list_ackley_10dim.append(torch.Tensor(values))"
   ]
  },
  {
   "cell_type": "code",
   "execution_count": 82,
   "metadata": {},
   "outputs": [
    {
     "name": "stderr",
     "output_type": "stream",
     "text": [
      "100%|██████████| 500/500 [00:23<00:00, 21.47it/s]\n",
      "100%|██████████| 500/500 [00:24<00:00, 20.59it/s]\n",
      "100%|██████████| 500/500 [00:25<00:00, 19.63it/s]\n",
      "100%|██████████| 500/500 [00:22<00:00, 22.09it/s]\n",
      "100%|██████████| 500/500 [00:23<00:00, 21.27it/s]\n",
      "100%|██████████| 500/500 [00:25<00:00, 19.85it/s]\n",
      "100%|██████████| 500/500 [00:22<00:00, 22.28it/s]\n",
      "100%|██████████| 500/500 [00:25<00:00, 19.25it/s]\n",
      "100%|██████████| 500/500 [00:23<00:00, 21.70it/s]\n",
      "100%|██████████| 500/500 [00:23<00:00, 21.16it/s]\n",
      "100%|██████████| 500/500 [00:24<00:00, 20.67it/s]\n",
      "100%|██████████| 500/500 [00:22<00:00, 22.27it/s]\n",
      "100%|██████████| 500/500 [00:24<00:00, 20.47it/s]\n",
      "100%|██████████| 500/500 [00:22<00:00, 22.47it/s]\n",
      "100%|██████████| 500/500 [00:22<00:00, 21.82it/s]\n",
      "100%|██████████| 500/500 [00:24<00:00, 20.52it/s]\n",
      "100%|██████████| 500/500 [00:24<00:00, 20.34it/s]\n",
      "100%|██████████| 500/500 [00:23<00:00, 21.49it/s]\n",
      "100%|██████████| 500/500 [00:26<00:00, 18.78it/s]\n",
      "100%|██████████| 500/500 [00:24<00:00, 20.65it/s]\n"
     ]
    },
    {
     "data": {
      "application/javascript": [
       "\n",
       "            setTimeout(function() {\n",
       "                var nbb_cell_id = 82;\n",
       "                var nbb_unformatted_code = \"all_values_list_ackley_20dim = []\\nfor i in range(20):\\n    values, points = cso_ackley_20dim.forward(500)\\n    all_values_list_ackley_20dim.append(torch.Tensor(values))\";\n",
       "                var nbb_formatted_code = \"all_values_list_ackley_20dim = []\\nfor i in range(20):\\n    values, points = cso_ackley_20dim.forward(500)\\n    all_values_list_ackley_20dim.append(torch.Tensor(values))\";\n",
       "                var nbb_cells = Jupyter.notebook.get_cells();\n",
       "                for (var i = 0; i < nbb_cells.length; ++i) {\n",
       "                    if (nbb_cells[i].input_prompt_number == nbb_cell_id) {\n",
       "                        if (nbb_cells[i].get_text() == nbb_unformatted_code) {\n",
       "                             nbb_cells[i].set_text(nbb_formatted_code);\n",
       "                        }\n",
       "                        break;\n",
       "                    }\n",
       "                }\n",
       "            }, 500);\n",
       "            "
      ],
      "text/plain": [
       "<IPython.core.display.Javascript object>"
      ]
     },
     "metadata": {},
     "output_type": "display_data"
    }
   ],
   "source": [
    "all_values_list_ackley_20dim = []\n",
    "for i in range(20):\n",
    "    values, points = cso_ackley_20dim.forward(500)\n",
    "    all_values_list_ackley_20dim.append(torch.Tensor(values))"
   ]
  },
  {
   "cell_type": "code",
   "execution_count": 120,
   "metadata": {},
   "outputs": [
    {
     "data": {
      "application/javascript": [
       "\n",
       "            setTimeout(function() {\n",
       "                var nbb_cell_id = 120;\n",
       "                var nbb_unformatted_code = \"cso_weierstrass_10dim = cuckoo_search(function=weierstrass_f)\\ncso_weierstrass_20dim = cuckoo_search(function=weierstrass_f, dimension=20)\";\n",
       "                var nbb_formatted_code = \"cso_weierstrass_10dim = cuckoo_search(function=weierstrass_f)\\ncso_weierstrass_20dim = cuckoo_search(function=weierstrass_f, dimension=20)\";\n",
       "                var nbb_cells = Jupyter.notebook.get_cells();\n",
       "                for (var i = 0; i < nbb_cells.length; ++i) {\n",
       "                    if (nbb_cells[i].input_prompt_number == nbb_cell_id) {\n",
       "                        if (nbb_cells[i].get_text() == nbb_unformatted_code) {\n",
       "                             nbb_cells[i].set_text(nbb_formatted_code);\n",
       "                        }\n",
       "                        break;\n",
       "                    }\n",
       "                }\n",
       "            }, 500);\n",
       "            "
      ],
      "text/plain": [
       "<IPython.core.display.Javascript object>"
      ]
     },
     "metadata": {},
     "output_type": "display_data"
    }
   ],
   "source": [
    "cso_weierstrass_10dim = cuckoo_search(function=weierstrass_f)\n",
    "cso_weierstrass_20dim = cuckoo_search(function=weierstrass_f, dimension=20)"
   ]
  },
  {
   "cell_type": "code",
   "execution_count": 121,
   "metadata": {},
   "outputs": [
    {
     "name": "stderr",
     "output_type": "stream",
     "text": [
      "100%|██████████| 150/150 [00:41<00:00,  3.61it/s]\n",
      "100%|██████████| 150/150 [00:39<00:00,  3.76it/s]\n",
      "100%|██████████| 150/150 [00:42<00:00,  3.55it/s]\n",
      "100%|██████████| 150/150 [00:44<00:00,  3.39it/s]\n",
      "100%|██████████| 150/150 [00:45<00:00,  3.30it/s]\n",
      "100%|██████████| 150/150 [00:44<00:00,  3.36it/s]\n",
      "100%|██████████| 150/150 [00:42<00:00,  3.55it/s]\n",
      "100%|██████████| 150/150 [00:40<00:00,  3.67it/s]\n",
      "100%|██████████| 150/150 [00:52<00:00,  2.83it/s]\n",
      "100%|██████████| 150/150 [00:42<00:00,  3.49it/s]\n",
      "100%|██████████| 150/150 [00:44<00:00,  3.36it/s]\n",
      "100%|██████████| 150/150 [00:44<00:00,  3.40it/s]\n",
      "100%|██████████| 150/150 [00:43<00:00,  3.42it/s]\n",
      "100%|██████████| 150/150 [00:43<00:00,  3.42it/s]\n",
      "100%|██████████| 150/150 [00:42<00:00,  3.57it/s]\n",
      "100%|██████████| 150/150 [00:41<00:00,  3.59it/s]\n",
      "100%|██████████| 150/150 [00:40<00:00,  3.72it/s]\n",
      "100%|██████████| 150/150 [00:39<00:00,  3.76it/s]\n",
      "100%|██████████| 150/150 [00:41<00:00,  3.58it/s]\n"
     ]
    },
    {
     "data": {
      "application/javascript": [
       "\n",
       "            setTimeout(function() {\n",
       "                var nbb_cell_id = 121;\n",
       "                var nbb_unformatted_code = \"all_values_list_weierstrass_10dim = []\\nfor i in range(20):\\n    values, points = cso_weierstrass_10dim.forward(150)\\n    all_values_list_weierstrass_10dim.append(torch.Tensor(values))\";\n",
       "                var nbb_formatted_code = \"all_values_list_weierstrass_10dim = []\\nfor i in range(20):\\n    values, points = cso_weierstrass_10dim.forward(150)\\n    all_values_list_weierstrass_10dim.append(torch.Tensor(values))\";\n",
       "                var nbb_cells = Jupyter.notebook.get_cells();\n",
       "                for (var i = 0; i < nbb_cells.length; ++i) {\n",
       "                    if (nbb_cells[i].input_prompt_number == nbb_cell_id) {\n",
       "                        if (nbb_cells[i].get_text() == nbb_unformatted_code) {\n",
       "                             nbb_cells[i].set_text(nbb_formatted_code);\n",
       "                        }\n",
       "                        break;\n",
       "                    }\n",
       "                }\n",
       "            }, 500);\n",
       "            "
      ],
      "text/plain": [
       "<IPython.core.display.Javascript object>"
      ]
     },
     "metadata": {},
     "output_type": "display_data"
    }
   ],
   "source": [
    "all_values_list_weierstrass_10dim = []\n",
    "for i in range(20):\n",
    "    values, points = cso_weierstrass_10dim.forward(150)\n",
    "    all_values_list_weierstrass_10dim.append(torch.Tensor(values))"
   ]
  },
  {
   "cell_type": "code",
   "execution_count": 122,
   "metadata": {},
   "outputs": [
    {
     "name": "stderr",
     "output_type": "stream",
     "text": [
      "100%|██████████| 1000/1000 [04:55<00:00,  3.39it/s]\n",
      "100%|██████████| 1000/1000 [05:12<00:00,  3.20it/s]\n",
      "100%|██████████| 1000/1000 [05:10<00:00,  3.22it/s]\n",
      "100%|██████████| 1000/1000 [04:52<00:00,  3.42it/s]\n",
      "100%|██████████| 1000/1000 [04:55<00:00,  3.38it/s]\n",
      "100%|██████████| 1000/1000 [05:07<00:00,  3.25it/s]\n",
      "100%|██████████| 1000/1000 [04:58<00:00,  3.35it/s]\n",
      "100%|██████████| 1000/1000 [04:56<00:00,  3.37it/s]\n",
      "100%|██████████| 1000/1000 [04:59<00:00,  3.33it/s]\n",
      "100%|██████████| 1000/1000 [04:56<00:00,  3.37it/s]\n",
      "100%|██████████| 1000/1000 [05:05<00:00,  3.27it/s]\n",
      "100%|██████████| 1000/1000 [05:07<00:00,  3.25it/s]\n",
      "100%|██████████| 1000/1000 [04:54<00:00,  3.40it/s]\n",
      "100%|██████████| 1000/1000 [04:56<00:00,  3.38it/s]\n",
      "100%|██████████| 1000/1000 [05:09<00:00,  3.23it/s]\n",
      "100%|██████████| 1000/1000 [05:07<00:00,  3.25it/s]\n",
      "100%|██████████| 1000/1000 [05:00<00:00,  3.32it/s]\n",
      "100%|██████████| 1000/1000 [04:55<00:00,  3.38it/s]\n",
      "100%|██████████| 1000/1000 [04:54<00:00,  3.39it/s]\n",
      "100%|██████████| 1000/1000 [05:02<00:00,  3.31it/s]\n"
     ]
    },
    {
     "data": {
      "application/javascript": [
       "\n",
       "            setTimeout(function() {\n",
       "                var nbb_cell_id = 122;\n",
       "                var nbb_unformatted_code = \"all_values_list_weierstrass_20dim = []\\nfor i in range(20):\\n    values, points = cso_weierstrass_20dim.forward(1000)\\n    all_values_list_weierstrass_20dim.append(torch.Tensor(values))\";\n",
       "                var nbb_formatted_code = \"all_values_list_weierstrass_20dim = []\\nfor i in range(20):\\n    values, points = cso_weierstrass_20dim.forward(1000)\\n    all_values_list_weierstrass_20dim.append(torch.Tensor(values))\";\n",
       "                var nbb_cells = Jupyter.notebook.get_cells();\n",
       "                for (var i = 0; i < nbb_cells.length; ++i) {\n",
       "                    if (nbb_cells[i].input_prompt_number == nbb_cell_id) {\n",
       "                        if (nbb_cells[i].get_text() == nbb_unformatted_code) {\n",
       "                             nbb_cells[i].set_text(nbb_formatted_code);\n",
       "                        }\n",
       "                        break;\n",
       "                    }\n",
       "                }\n",
       "            }, 500);\n",
       "            "
      ],
      "text/plain": [
       "<IPython.core.display.Javascript object>"
      ]
     },
     "metadata": {},
     "output_type": "display_data"
    }
   ],
   "source": [
    "all_values_list_weierstrass_20dim = []\n",
    "for i in range(20):\n",
    "    values, points = cso_weierstrass_20dim.forward(1000)\n",
    "    all_values_list_weierstrass_20dim.append(torch.Tensor(values))"
   ]
  },
  {
   "cell_type": "markdown",
   "metadata": {},
   "source": [
    "# Visualization"
   ]
  },
  {
   "cell_type": "code",
   "execution_count": 59,
   "metadata": {},
   "outputs": [
    {
     "data": {
      "application/javascript": [
       "\n",
       "            setTimeout(function() {\n",
       "                var nbb_cell_id = 59;\n",
       "                var nbb_unformatted_code = \"import numpy as np\\nimport matplotlib.pyplot as plt\";\n",
       "                var nbb_formatted_code = \"import numpy as np\\nimport matplotlib.pyplot as plt\";\n",
       "                var nbb_cells = Jupyter.notebook.get_cells();\n",
       "                for (var i = 0; i < nbb_cells.length; ++i) {\n",
       "                    if (nbb_cells[i].input_prompt_number == nbb_cell_id) {\n",
       "                        if (nbb_cells[i].get_text() == nbb_unformatted_code) {\n",
       "                             nbb_cells[i].set_text(nbb_formatted_code);\n",
       "                        }\n",
       "                        break;\n",
       "                    }\n",
       "                }\n",
       "            }, 500);\n",
       "            "
      ],
      "text/plain": [
       "<IPython.core.display.Javascript object>"
      ]
     },
     "metadata": {},
     "output_type": "display_data"
    }
   ],
   "source": [
    "import numpy as np\n",
    "import matplotlib.pyplot as plt"
   ]
  },
  {
   "cell_type": "markdown",
   "metadata": {},
   "source": [
    "## Ackley function"
   ]
  },
  {
   "cell_type": "code",
   "execution_count": 113,
   "metadata": {},
   "outputs": [
    {
     "data": {
      "application/javascript": [
       "\n",
       "            setTimeout(function() {\n",
       "                var nbb_cell_id = 113;\n",
       "                var nbb_unformatted_code = \"all_values_tensor_ackley_10dim = torch.stack(all_values_list_ackley_10dim).numpy()\\nmax_line_10d = all_values_tensor_ackley_10dim.max(axis=0)\\nmean_line_10d = all_values_tensor_ackley_10dim.mean(axis=0)\\nmin_line_10d = all_values_tensor_ackley_10dim.min(axis=0)\\n\\nall_values_tensor_ackley_20dim = torch.stack(all_values_list_ackley_20dim).numpy()\\nmax_line_20d = all_values_tensor_ackley_20dim.max(axis=0)\\nmean_line_20d = all_values_tensor_ackley_20dim.mean(axis=0)\\nmin_line_20d = all_values_tensor_ackley_20dim.min(axis=0)\";\n",
       "                var nbb_formatted_code = \"all_values_tensor_ackley_10dim = torch.stack(all_values_list_ackley_10dim).numpy()\\nmax_line_10d = all_values_tensor_ackley_10dim.max(axis=0)\\nmean_line_10d = all_values_tensor_ackley_10dim.mean(axis=0)\\nmin_line_10d = all_values_tensor_ackley_10dim.min(axis=0)\\n\\nall_values_tensor_ackley_20dim = torch.stack(all_values_list_ackley_20dim).numpy()\\nmax_line_20d = all_values_tensor_ackley_20dim.max(axis=0)\\nmean_line_20d = all_values_tensor_ackley_20dim.mean(axis=0)\\nmin_line_20d = all_values_tensor_ackley_20dim.min(axis=0)\";\n",
       "                var nbb_cells = Jupyter.notebook.get_cells();\n",
       "                for (var i = 0; i < nbb_cells.length; ++i) {\n",
       "                    if (nbb_cells[i].input_prompt_number == nbb_cell_id) {\n",
       "                        if (nbb_cells[i].get_text() == nbb_unformatted_code) {\n",
       "                             nbb_cells[i].set_text(nbb_formatted_code);\n",
       "                        }\n",
       "                        break;\n",
       "                    }\n",
       "                }\n",
       "            }, 500);\n",
       "            "
      ],
      "text/plain": [
       "<IPython.core.display.Javascript object>"
      ]
     },
     "metadata": {},
     "output_type": "display_data"
    }
   ],
   "source": [
    "all_values_tensor_ackley_10dim = torch.stack(all_values_list_ackley_10dim).numpy()\n",
    "max_line_10d = all_values_tensor_ackley_10dim.max(axis=0)\n",
    "mean_line_10d = all_values_tensor_ackley_10dim.mean(axis=0)\n",
    "min_line_10d = all_values_tensor_ackley_10dim.min(axis=0)\n",
    "\n",
    "all_values_tensor_ackley_20dim = torch.stack(all_values_list_ackley_20dim).numpy()\n",
    "max_line_20d = all_values_tensor_ackley_20dim.max(axis=0)\n",
    "mean_line_20d = all_values_tensor_ackley_20dim.mean(axis=0)\n",
    "min_line_20d = all_values_tensor_ackley_20dim.min(axis=0)"
   ]
  },
  {
   "cell_type": "code",
   "execution_count": 94,
   "metadata": {},
   "outputs": [
    {
     "data": {
      "text/plain": [
       "[0.22822352, 0.040250536, 0.6673465, 0.06506984]"
      ]
     },
     "execution_count": 94,
     "metadata": {},
     "output_type": "execute_result"
    },
    {
     "data": {
      "application/javascript": [
       "\n",
       "            setTimeout(function() {\n",
       "                var nbb_cell_id = 94;\n",
       "                var nbb_unformatted_code = \"[mean_line_10d[-1],\\nall_values_tensor_ackley_10dim.std(axis=0)[-1],\\nmean_line_20d[-1],\\nall_values_tensor_ackley_20dim.std(axis=0)[-1]]\";\n",
       "                var nbb_formatted_code = \"[\\n    mean_line_10d[-1],\\n    all_values_tensor_ackley_10dim.std(axis=0)[-1],\\n    mean_line_20d[-1],\\n    all_values_tensor_ackley_20dim.std(axis=0)[-1],\\n]\";\n",
       "                var nbb_cells = Jupyter.notebook.get_cells();\n",
       "                for (var i = 0; i < nbb_cells.length; ++i) {\n",
       "                    if (nbb_cells[i].input_prompt_number == nbb_cell_id) {\n",
       "                        if (nbb_cells[i].get_text() == nbb_unformatted_code) {\n",
       "                             nbb_cells[i].set_text(nbb_formatted_code);\n",
       "                        }\n",
       "                        break;\n",
       "                    }\n",
       "                }\n",
       "            }, 500);\n",
       "            "
      ],
      "text/plain": [
       "<IPython.core.display.Javascript object>"
      ]
     },
     "metadata": {},
     "output_type": "display_data"
    }
   ],
   "source": [
    "[\n",
    "    mean_line_10d[-1],\n",
    "    all_values_tensor_ackley_10dim.std(axis=0)[-1],\n",
    "    mean_line_20d[-1],\n",
    "    all_values_tensor_ackley_20dim.std(axis=0)[-1],\n",
    "]"
   ]
  },
  {
   "cell_type": "code",
   "execution_count": 114,
   "metadata": {},
   "outputs": [
    {
     "data": {
      "image/png": "[encoded data removed]",
      "text/plain": [
       "<Figure size 576x432 with 1 Axes>"
      ]
     },
     "metadata": {
      "needs_background": "light"
     },
     "output_type": "display_data"
    },
    {
     "data": {
      "application/javascript": [
       "\n",
       "            setTimeout(function() {\n",
       "                var nbb_cell_id = 114;\n",
       "                var nbb_unformatted_code = \"plt.figure(figsize=(8, 6))\\nplt.plot(range(351), mean_line_10d)\\nplt.fill_between(\\n    range(351), min_line_10d, max_line_10d, color=\\\"b\\\", alpha=0.1, label=\\\"dimension-10\\\"\\n)\\n\\nplt.plot(range(501), mean_line_20d)\\nplt.fill_between(\\n    range(501), min_line_20d, max_line_20d, color=\\\"r\\\", alpha=0.1, label=\\\"dimension-20\\\"\\n)\\nplt.xlabel(\\\"Number of iterations\\\", weight=\\\"bold\\\", size=12)\\nplt.ylabel(\\\"function values\\\", weight=\\\"bold\\\", size=12)\\nplt.title(\\\"Ackley function\\\", weight=\\\"bold\\\", size=15)\\nplt.grid(True)\\nplt.legend()\\nplt.show()\";\n",
       "                var nbb_formatted_code = \"plt.figure(figsize=(8, 6))\\nplt.plot(range(351), mean_line_10d)\\nplt.fill_between(\\n    range(351), min_line_10d, max_line_10d, color=\\\"b\\\", alpha=0.1, label=\\\"dimension-10\\\"\\n)\\n\\nplt.plot(range(501), mean_line_20d)\\nplt.fill_between(\\n    range(501), min_line_20d, max_line_20d, color=\\\"r\\\", alpha=0.1, label=\\\"dimension-20\\\"\\n)\\nplt.xlabel(\\\"Number of iterations\\\", weight=\\\"bold\\\", size=12)\\nplt.ylabel(\\\"function values\\\", weight=\\\"bold\\\", size=12)\\nplt.title(\\\"Ackley function\\\", weight=\\\"bold\\\", size=15)\\nplt.grid(True)\\nplt.legend()\\nplt.show()\";\n",
       "                var nbb_cells = Jupyter.notebook.get_cells();\n",
       "                for (var i = 0; i < nbb_cells.length; ++i) {\n",
       "                    if (nbb_cells[i].input_prompt_number == nbb_cell_id) {\n",
       "                        if (nbb_cells[i].get_text() == nbb_unformatted_code) {\n",
       "                             nbb_cells[i].set_text(nbb_formatted_code);\n",
       "                        }\n",
       "                        break;\n",
       "                    }\n",
       "                }\n",
       "            }, 500);\n",
       "            "
      ],
      "text/plain": [
       "<IPython.core.display.Javascript object>"
      ]
     },
     "metadata": {},
     "output_type": "display_data"
    }
   ],
   "source": [
    "plt.figure(figsize=(8, 6))\n",
    "plt.plot(range(351), mean_line_10d)\n",
    "plt.fill_between(\n",
    "    range(351), min_line_10d, max_line_10d, color=\"b\", alpha=0.1, label=\"dimension-10\"\n",
    ")\n",
    "\n",
    "plt.plot(range(501), mean_line_20d)\n",
    "plt.fill_between(\n",
    "    range(501), min_line_20d, max_line_20d, color=\"r\", alpha=0.1, label=\"dimension-20\"\n",
    ")\n",
    "plt.xlabel(\"Number of iterations\", weight=\"bold\", size=12)\n",
    "plt.ylabel(\"function values\", weight=\"bold\", size=12)\n",
    "plt.title(\"Ackley function\", weight=\"bold\", size=15)\n",
    "plt.grid(True)\n",
    "plt.legend()\n",
    "plt.show()"
   ]
  },
  {
   "cell_type": "markdown",
   "metadata": {},
   "source": [
    "## Weierstrass function"
   ]
  },
  {
   "cell_type": "code",
   "execution_count": 123,
   "metadata": {},
   "outputs": [
    {
     "data": {
      "application/javascript": [
       "\n",
       "            setTimeout(function() {\n",
       "                var nbb_cell_id = 123;\n",
       "                var nbb_unformatted_code = \"all_values_tensor_weierstrass_10dim = torch.stack(\\n    all_values_list_weierstrass_10dim\\n).numpy()\\nmax_line_weierstrass_10d = all_values_tensor_weierstrass_10dim.max(axis=0)\\nmean_line_weierstrass_10d = all_values_tensor_weierstrass_10dim.mean(axis=0)\\nmin_line_weierstrass_10d = all_values_tensor_weierstrass_10dim.min(axis=0)\\n\\nall_values_tensor_weierstrass_20dim = torch.stack(\\n    all_values_list_weierstrass_20dim\\n).numpy()\\nmax_line_weierstrass_20d = all_values_tensor_weierstrass_20dim.max(axis=0)\\nmean_line_weierstrass_20d = all_values_tensor_weierstrass_20dim.mean(axis=0)\\nmin_line_weierstrass_20d = all_values_tensor_weierstrass_20dim.min(axis=0)\";\n",
       "                var nbb_formatted_code = \"all_values_tensor_weierstrass_10dim = torch.stack(\\n    all_values_list_weierstrass_10dim\\n).numpy()\\nmax_line_weierstrass_10d = all_values_tensor_weierstrass_10dim.max(axis=0)\\nmean_line_weierstrass_10d = all_values_tensor_weierstrass_10dim.mean(axis=0)\\nmin_line_weierstrass_10d = all_values_tensor_weierstrass_10dim.min(axis=0)\\n\\nall_values_tensor_weierstrass_20dim = torch.stack(\\n    all_values_list_weierstrass_20dim\\n).numpy()\\nmax_line_weierstrass_20d = all_values_tensor_weierstrass_20dim.max(axis=0)\\nmean_line_weierstrass_20d = all_values_tensor_weierstrass_20dim.mean(axis=0)\\nmin_line_weierstrass_20d = all_values_tensor_weierstrass_20dim.min(axis=0)\";\n",
       "                var nbb_cells = Jupyter.notebook.get_cells();\n",
       "                for (var i = 0; i < nbb_cells.length; ++i) {\n",
       "                    if (nbb_cells[i].input_prompt_number == nbb_cell_id) {\n",
       "                        if (nbb_cells[i].get_text() == nbb_unformatted_code) {\n",
       "                             nbb_cells[i].set_text(nbb_formatted_code);\n",
       "                        }\n",
       "                        break;\n",
       "                    }\n",
       "                }\n",
       "            }, 500);\n",
       "            "
      ],
      "text/plain": [
       "<IPython.core.display.Javascript object>"
      ]
     },
     "metadata": {},
     "output_type": "display_data"
    }
   ],
   "source": [
    "all_values_tensor_weierstrass_10dim = torch.stack(\n",
    "    all_values_list_weierstrass_10dim\n",
    ").numpy()\n",
    "max_line_weierstrass_10d = all_values_tensor_weierstrass_10dim.max(axis=0)\n",
    "mean_line_weierstrass_10d = all_values_tensor_weierstrass_10dim.mean(axis=0)\n",
    "min_line_weierstrass_10d = all_values_tensor_weierstrass_10dim.min(axis=0)\n",
    "\n",
    "all_values_tensor_weierstrass_20dim = torch.stack(\n",
    "    all_values_list_weierstrass_20dim\n",
    ").numpy()\n",
    "max_line_weierstrass_20d = all_values_tensor_weierstrass_20dim.max(axis=0)\n",
    "mean_line_weierstrass_20d = all_values_tensor_weierstrass_20dim.mean(axis=0)\n",
    "min_line_weierstrass_20d = all_values_tensor_weierstrass_20dim.min(axis=0)"
   ]
  },
  {
   "cell_type": "code",
   "execution_count": 124,
   "metadata": {},
   "outputs": [
    {
     "data": {
      "text/plain": [
       "[601.9222, 0.49343252, 600.8185, 0.06331711]"
      ]
     },
     "execution_count": 124,
     "metadata": {},
     "output_type": "execute_result"
    },
    {
     "data": {
      "application/javascript": [
       "\n",
       "            setTimeout(function() {\n",
       "                var nbb_cell_id = 124;\n",
       "                var nbb_unformatted_code = \"[\\n    max_line_weierstrass_10d[-1],\\n    all_values_tensor_weierstrass_10dim.std(axis=0)[-1],\\n    max_line_weierstrass_20d[-1],\\n    all_values_tensor_weierstrass_20dim.std(axis=0)[-1],\\n]\";\n",
       "                var nbb_formatted_code = \"[\\n    max_line_weierstrass_10d[-1],\\n    all_values_tensor_weierstrass_10dim.std(axis=0)[-1],\\n    max_line_weierstrass_20d[-1],\\n    all_values_tensor_weierstrass_20dim.std(axis=0)[-1],\\n]\";\n",
       "                var nbb_cells = Jupyter.notebook.get_cells();\n",
       "                for (var i = 0; i < nbb_cells.length; ++i) {\n",
       "                    if (nbb_cells[i].input_prompt_number == nbb_cell_id) {\n",
       "                        if (nbb_cells[i].get_text() == nbb_unformatted_code) {\n",
       "                             nbb_cells[i].set_text(nbb_formatted_code);\n",
       "                        }\n",
       "                        break;\n",
       "                    }\n",
       "                }\n",
       "            }, 500);\n",
       "            "
      ],
      "text/plain": [
       "<IPython.core.display.Javascript object>"
      ]
     },
     "metadata": {},
     "output_type": "display_data"
    }
   ],
   "source": [
    "[\n",
    "    max_line_weierstrass_10d[-1],\n",
    "    all_values_tensor_weierstrass_10dim.std(axis=0)[-1],\n",
    "    max_line_weierstrass_20d[-1],\n",
    "    all_values_tensor_weierstrass_20dim.std(axis=0)[-1],\n",
    "]"
   ]
  },
  {
   "cell_type": "code",
   "execution_count": 125,
   "metadata": {},
   "outputs": [
    {
     "data": {
      "image/png": "[encoded data removed]",
      "text/plain": [
       "<Figure size 576x432 with 1 Axes>"
      ]
     },
     "metadata": {
      "needs_background": "light"
     },
     "output_type": "display_data"
    },
    {
     "data": {
      "application/javascript": [
       "\n",
       "            setTimeout(function() {\n",
       "                var nbb_cell_id = 125;\n",
       "                var nbb_unformatted_code = \"plt.figure(figsize=(8, 6))\\nplt.plot(range(151), mean_line_weierstrass_10d)\\nplt.fill_between(\\n    range(151),\\n    min_line_weierstrass_10d,\\n    max_line_weierstrass_10d,\\n    color=\\\"b\\\",\\n    alpha=0.1,\\n    label=\\\"dimension-10\\\",\\n)\\n\\nplt.plot(range(1001), mean_line_weierstrass_20d)\\nplt.fill_between(\\n    range(1001),\\n    min_line_weierstrass_20d,\\n    max_line_weierstrass_20d,\\n    color=\\\"r\\\",\\n    alpha=0.1,\\n    label=\\\"dimension-20\\\",\\n)\\nplt.xlabel(\\\"Number of iterations\\\", weight=\\\"bold\\\", size=12)\\nplt.ylabel(\\\"function values\\\", weight=\\\"bold\\\", size=12)\\nplt.title(\\\"Shifted and Rotated Weierstrass function\\\", weight=\\\"bold\\\", size=15)\\nplt.grid(True)\\nplt.legend()\\nplt.show()\";\n",
       "                var nbb_formatted_code = \"plt.figure(figsize=(8, 6))\\nplt.plot(range(151), mean_line_weierstrass_10d)\\nplt.fill_between(\\n    range(151),\\n    min_line_weierstrass_10d,\\n    max_line_weierstrass_10d,\\n    color=\\\"b\\\",\\n    alpha=0.1,\\n    label=\\\"dimension-10\\\",\\n)\\n\\nplt.plot(range(1001), mean_line_weierstrass_20d)\\nplt.fill_between(\\n    range(1001),\\n    min_line_weierstrass_20d,\\n    max_line_weierstrass_20d,\\n    color=\\\"r\\\",\\n    alpha=0.1,\\n    label=\\\"dimension-20\\\",\\n)\\nplt.xlabel(\\\"Number of iterations\\\", weight=\\\"bold\\\", size=12)\\nplt.ylabel(\\\"function values\\\", weight=\\\"bold\\\", size=12)\\nplt.title(\\\"Shifted and Rotated Weierstrass function\\\", weight=\\\"bold\\\", size=15)\\nplt.grid(True)\\nplt.legend()\\nplt.show()\";\n",
       "                var nbb_cells = Jupyter.notebook.get_cells();\n",
       "                for (var i = 0; i < nbb_cells.length; ++i) {\n",
       "                    if (nbb_cells[i].input_prompt_number == nbb_cell_id) {\n",
       "                        if (nbb_cells[i].get_text() == nbb_unformatted_code) {\n",
       "                             nbb_cells[i].set_text(nbb_formatted_code);\n",
       "                        }\n",
       "                        break;\n",
       "                    }\n",
       "                }\n",
       "            }, 500);\n",
       "            "
      ],
      "text/plain": [
       "<IPython.core.display.Javascript object>"
      ]
     },
     "metadata": {},
     "output_type": "display_data"
    }
   ],
   "source": [
    "plt.figure(figsize=(8, 6))\n",
    "plt.plot(range(151), mean_line_weierstrass_10d)\n",
    "plt.fill_between(\n",
    "    range(151),\n",
    "    min_line_weierstrass_10d,\n",
    "    max_line_weierstrass_10d,\n",
    "    color=\"b\",\n",
    "    alpha=0.1,\n",
    "    label=\"dimension-10\",\n",
    ")\n",
    "\n",
    "plt.plot(range(1001), mean_line_weierstrass_20d)\n",
    "plt.fill_between(\n",
    "    range(1001),\n",
    "    min_line_weierstrass_20d,\n",
    "    max_line_weierstrass_20d,\n",
    "    color=\"r\",\n",
    "    alpha=0.1,\n",
    "    label=\"dimension-20\",\n",
    ")\n",
    "plt.xlabel(\"Number of iterations\", weight=\"bold\", size=12)\n",
    "plt.ylabel(\"function values\", weight=\"bold\", size=12)\n",
    "plt.title(\"Shifted and Rotated Weierstrass function\", weight=\"bold\", size=15)\n",
    "plt.grid(True)\n",
    "plt.legend()\n",
    "plt.show()"
   ]
  },
  {
   "cell_type": "code",
   "execution_count": null,
   "metadata": {},
   "outputs": [],
   "source": []
  }
 ],
 "metadata": {
  "kernelspec": {
   "display_name": "Python 3",
   "language": "python",
   "name": "python3"
  },
  "language_info": {
   "codemirror_mode": {
    "name": "ipython",
    "version": 3
   },
   "file_extension": ".py",
   "mimetype": "text/x-python",
   "name": "python",
   "nbconvert_exporter": "python",
   "pygments_lexer": "ipython3",
   "version": "3.6.9"
  }
 },
 "nbformat": 4,
 "nbformat_minor": 4
}
