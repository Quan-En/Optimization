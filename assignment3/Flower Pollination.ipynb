{
 "cells": [
  {
   "cell_type": "code",
   "execution_count": 1,
   "metadata": {},
   "outputs": [
    {
     "data": {
      "application/javascript": [
       "\n",
       "            setTimeout(function() {\n",
       "                var nbb_cell_id = 1;\n",
       "                var nbb_unformatted_code = \"%load_ext nb_black\";\n",
       "                var nbb_formatted_code = \"%load_ext nb_black\";\n",
       "                var nbb_cells = Jupyter.notebook.get_cells();\n",
       "                for (var i = 0; i < nbb_cells.length; ++i) {\n",
       "                    if (nbb_cells[i].input_prompt_number == nbb_cell_id) {\n",
       "                        if (nbb_cells[i].get_text() == nbb_unformatted_code) {\n",
       "                             nbb_cells[i].set_text(nbb_formatted_code);\n",
       "                        }\n",
       "                        break;\n",
       "                    }\n",
       "                }\n",
       "            }, 500);\n",
       "            "
      ],
      "text/plain": [
       "<IPython.core.display.Javascript object>"
      ]
     },
     "metadata": {},
     "output_type": "display_data"
    }
   ],
   "source": [
    "%load_ext nb_black"
   ]
  },
  {
   "cell_type": "markdown",
   "metadata": {},
   "source": [
    "# Flower Pollination Algorithm"
   ]
  },
  {
   "cell_type": "code",
   "execution_count": 2,
   "metadata": {},
   "outputs": [
    {
     "data": {
      "application/javascript": [
       "\n",
       "            setTimeout(function() {\n",
       "                var nbb_cell_id = 2;\n",
       "                var nbb_unformatted_code = \"import torch\\nfrom torch import normal, randint, rand, multinomial\\nfrom math import pi, cos, sin, gamma\\nfrom tqdm import tqdm\";\n",
       "                var nbb_formatted_code = \"import torch\\nfrom torch import normal, randint, rand, multinomial\\nfrom math import pi, cos, sin, gamma\\nfrom tqdm import tqdm\";\n",
       "                var nbb_cells = Jupyter.notebook.get_cells();\n",
       "                for (var i = 0; i < nbb_cells.length; ++i) {\n",
       "                    if (nbb_cells[i].input_prompt_number == nbb_cell_id) {\n",
       "                        if (nbb_cells[i].get_text() == nbb_unformatted_code) {\n",
       "                             nbb_cells[i].set_text(nbb_formatted_code);\n",
       "                        }\n",
       "                        break;\n",
       "                    }\n",
       "                }\n",
       "            }, 500);\n",
       "            "
      ],
      "text/plain": [
       "<IPython.core.display.Javascript object>"
      ]
     },
     "metadata": {},
     "output_type": "display_data"
    }
   ],
   "source": [
    "import torch\n",
    "from torch import normal, randint, rand, multinomial\n",
    "from math import pi, cos, sin, gamma\n",
    "from tqdm import tqdm"
   ]
  },
  {
   "cell_type": "code",
   "execution_count": 3,
   "metadata": {},
   "outputs": [
    {
     "data": {
      "application/javascript": [
       "\n",
       "            setTimeout(function() {\n",
       "                var nbb_cell_id = 3;\n",
       "                var nbb_unformatted_code = \"from obj_f import ackley_f, weierstrass_f\";\n",
       "                var nbb_formatted_code = \"from obj_f import ackley_f, weierstrass_f\";\n",
       "                var nbb_cells = Jupyter.notebook.get_cells();\n",
       "                for (var i = 0; i < nbb_cells.length; ++i) {\n",
       "                    if (nbb_cells[i].input_prompt_number == nbb_cell_id) {\n",
       "                        if (nbb_cells[i].get_text() == nbb_unformatted_code) {\n",
       "                             nbb_cells[i].set_text(nbb_formatted_code);\n",
       "                        }\n",
       "                        break;\n",
       "                    }\n",
       "                }\n",
       "            }, 500);\n",
       "            "
      ],
      "text/plain": [
       "<IPython.core.display.Javascript object>"
      ]
     },
     "metadata": {},
     "output_type": "display_data"
    }
   ],
   "source": [
    "from obj_f import ackley_f, weierstrass_f"
   ]
  },
  {
   "cell_type": "code",
   "execution_count": 118,
   "metadata": {},
   "outputs": [
    {
     "data": {
      "application/javascript": [
       "\n",
       "            setTimeout(function() {\n",
       "                var nbb_cell_id = 118;\n",
       "                var nbb_unformatted_code = \"# %load obj_f\\n\\nimport torch \\nfrom math import pi, cos, sin, gamma\\n\\ndef ackley_f(x):\\n    # x = x.cuda()\\n    if len(x.shape) == 1:\\n        x = x.unsqueeze(1)\\n\\n    lhs = 20 * torch.exp((-0.2) * torch.sqrt((x ** 2).mean()))\\n    rhs = torch.cos(2 * pi * x).mean().exp()\\n    result = -1 * (lhs + rhs) + 20 + torch.exp(torch.Tensor([1]))  # .cuda()\\n\\n    return result\\n\\ndef weierstrass_f(x, a=0.5, b=3, kmax=20):\\n    # x = x.cuda()\\n    x = (x*0.5)/100\\n    if len(x.shape) == 1:\\n        x = x.unsqueeze(1)\\n\\n    D = x.shape[0]\\n\\n    lhs = 0\\n    rhs = 0\\n    for k in range(kmax):\\n        lhs += torch.sum((a ** k) * torch.cos(2 * pi * (b ** k) * (x + 0.5)))\\n        rhs += (a ** k) * torch.cos(torch.Tensor([pi * (b ** k)]))\\n    result = lhs - D * rhs + 600\\n    return result\";\n",
       "                var nbb_formatted_code = \"# %load obj_f\\n\\nimport torch\\nfrom math import pi, cos, sin, gamma\\n\\n\\ndef ackley_f(x):\\n    # x = x.cuda()\\n    if len(x.shape) == 1:\\n        x = x.unsqueeze(1)\\n\\n    lhs = 20 * torch.exp((-0.2) * torch.sqrt((x ** 2).mean()))\\n    rhs = torch.cos(2 * pi * x).mean().exp()\\n    result = -1 * (lhs + rhs) + 20 + torch.exp(torch.Tensor([1]))  # .cuda()\\n\\n    return result\\n\\n\\ndef weierstrass_f(x, a=0.5, b=3, kmax=20):\\n    # x = x.cuda()\\n    x = (x * 0.5) / 100\\n    if len(x.shape) == 1:\\n        x = x.unsqueeze(1)\\n\\n    D = x.shape[0]\\n\\n    lhs = 0\\n    rhs = 0\\n    for k in range(kmax):\\n        lhs += torch.sum((a ** k) * torch.cos(2 * pi * (b ** k) * (x + 0.5)))\\n        rhs += (a ** k) * torch.cos(torch.Tensor([pi * (b ** k)]))\\n    result = lhs - D * rhs + 600\\n    return result\";\n",
       "                var nbb_cells = Jupyter.notebook.get_cells();\n",
       "                for (var i = 0; i < nbb_cells.length; ++i) {\n",
       "                    if (nbb_cells[i].input_prompt_number == nbb_cell_id) {\n",
       "                        if (nbb_cells[i].get_text() == nbb_unformatted_code) {\n",
       "                             nbb_cells[i].set_text(nbb_formatted_code);\n",
       "                        }\n",
       "                        break;\n",
       "                    }\n",
       "                }\n",
       "            }, 500);\n",
       "            "
      ],
      "text/plain": [
       "<IPython.core.display.Javascript object>"
      ]
     },
     "metadata": {},
     "output_type": "display_data"
    }
   ],
   "source": [
    "# %load obj_f\n",
    "\n",
    "import torch\n",
    "from math import pi, cos, sin, gamma\n",
    "\n",
    "\n",
    "def ackley_f(x):\n",
    "    # x = x.cuda()\n",
    "    if len(x.shape) == 1:\n",
    "        x = x.unsqueeze(1)\n",
    "\n",
    "    lhs = 20 * torch.exp((-0.2) * torch.sqrt((x ** 2).mean()))\n",
    "    rhs = torch.cos(2 * pi * x).mean().exp()\n",
    "    result = -1 * (lhs + rhs) + 20 + torch.exp(torch.Tensor([1]))  # .cuda()\n",
    "\n",
    "    return result\n",
    "\n",
    "\n",
    "def weierstrass_f(x, a=0.5, b=3, kmax=20):\n",
    "    # x = x.cuda()\n",
    "    x = (x * 0.5) / 100\n",
    "    if len(x.shape) == 1:\n",
    "        x = x.unsqueeze(1)\n",
    "\n",
    "    D = x.shape[0]\n",
    "\n",
    "    lhs = 0\n",
    "    rhs = 0\n",
    "    for k in range(kmax):\n",
    "        lhs += torch.sum((a ** k) * torch.cos(2 * pi * (b ** k) * (x + 0.5)))\n",
    "        rhs += (a ** k) * torch.cos(torch.Tensor([pi * (b ** k)]))\n",
    "    result = lhs - D * rhs + 600\n",
    "    return result"
   ]
  },
  {
   "cell_type": "code",
   "execution_count": 4,
   "metadata": {},
   "outputs": [
    {
     "data": {
      "application/javascript": [
       "\n",
       "            setTimeout(function() {\n",
       "                var nbb_cell_id = 4;\n",
       "                var nbb_unformatted_code = \"from random import choices\";\n",
       "                var nbb_formatted_code = \"from random import choices\";\n",
       "                var nbb_cells = Jupyter.notebook.get_cells();\n",
       "                for (var i = 0; i < nbb_cells.length; ++i) {\n",
       "                    if (nbb_cells[i].input_prompt_number == nbb_cell_id) {\n",
       "                        if (nbb_cells[i].get_text() == nbb_unformatted_code) {\n",
       "                             nbb_cells[i].set_text(nbb_formatted_code);\n",
       "                        }\n",
       "                        break;\n",
       "                    }\n",
       "                }\n",
       "            }, 500);\n",
       "            "
      ],
      "text/plain": [
       "<IPython.core.display.Javascript object>"
      ]
     },
     "metadata": {},
     "output_type": "display_data"
    }
   ],
   "source": [
    "from random import choices"
   ]
  },
  {
   "cell_type": "code",
   "execution_count": 5,
   "metadata": {},
   "outputs": [
    {
     "data": {
      "application/javascript": [
       "\n",
       "            setTimeout(function() {\n",
       "                var nbb_cell_id = 5;\n",
       "                var nbb_unformatted_code = \"def argmin(lst):\\n    return min(range(len(lst)), key=lst.__getitem__)\";\n",
       "                var nbb_formatted_code = \"def argmin(lst):\\n    return min(range(len(lst)), key=lst.__getitem__)\";\n",
       "                var nbb_cells = Jupyter.notebook.get_cells();\n",
       "                for (var i = 0; i < nbb_cells.length; ++i) {\n",
       "                    if (nbb_cells[i].input_prompt_number == nbb_cell_id) {\n",
       "                        if (nbb_cells[i].get_text() == nbb_unformatted_code) {\n",
       "                             nbb_cells[i].set_text(nbb_formatted_code);\n",
       "                        }\n",
       "                        break;\n",
       "                    }\n",
       "                }\n",
       "            }, 500);\n",
       "            "
      ],
      "text/plain": [
       "<IPython.core.display.Javascript object>"
      ]
     },
     "metadata": {},
     "output_type": "display_data"
    }
   ],
   "source": [
    "def argmin(lst):\n",
    "    return min(range(len(lst)), key=lst.__getitem__)"
   ]
  },
  {
   "cell_type": "code",
   "execution_count": 105,
   "metadata": {},
   "outputs": [
    {
     "data": {
      "application/javascript": [
       "\n",
       "            setTimeout(function() {\n",
       "                var nbb_cell_id = 105;\n",
       "                var nbb_unformatted_code = \"class FPA(object):\\n    def __init__(\\n        self,\\n        function,\\n        pop_size=50,\\n        low_bound=-20,\\n        up_bound=20,\\n        dimension=10,\\n        p=0.8,\\n        alpha=0.9,\\n        **kwargs\\n    ):\\n\\n        self.pop_size = pop_size\\n        self.low_bound = low_bound\\n        self.up_bound = up_bound\\n        self.dimension = dimension\\n        self.obj_f = function\\n        self.p = p\\n        self.alpha = alpha\\n\\n    def forward(self, iteration_time, **kwargs):\\n        init_points_list = self.random_generate_sampe(size=self.pop_size)\\n        points_list = init_points_list[:]\\n\\n        init_function_values_list = [\\n            self.obj_f(sub_point, **kwargs) for sub_point in init_points_list\\n        ]\\n        function_values = init_function_values_list[:]\\n\\n        global_best_value_each_step = []\\n        global_best_point_each_step = []\\n\\n        global_best_index = argmin(function_values)\\n        global_best_value_each_step.append(function_values[global_best_index])\\n        global_best_point_each_step.append(points_list[global_best_index])\\n\\n        for t in tqdm(range(iteration_time)):\\n            for i in range(self.pop_size):\\n                if rand(1) < self.p:\\n                    new_point = points_list[i] + self.levy_fly() * (\\n                        global_best_point_each_step[-1] - points_list[i]\\n                    )\\n                else:\\n                    rand_index = choices(range(self.pop_size), k=2)\\n                    new_point = points_list[i] + rand(self.dimension, 1) * (\\n                        points_list[rand_index[0]] - points_list[rand_index[1]]\\n                    )\\n\\n                temp_function_value = self.obj_f(new_point, **kwargs)\\n                if temp_function_value < function_values[i]:\\n                    function_values[i] = temp_function_value\\n                    points_list[i] = new_point\\n\\n            global_best_index = argmin(function_values)\\n            global_best_value_each_step.append(function_values[global_best_index])\\n            global_best_point_each_step.append(points_list[global_best_index])\\n\\n        return global_best_value_each_step, global_best_point_each_step\\n\\n    def levy_fly(\\n        self,\\n    ):\\n        beta = 1.5\\n        sigma_u = (\\n            (gamma(1 + beta) * sin(0.5 * pi * beta))\\n            / (gamma(0.5 * (1 + beta)) * beta * (2 ** (0.5 * (beta - 1))))\\n        ) ** (1 / beta)\\n        sigma_v = 1\\n        step_part1 = normal(0, sigma_u, (self.dimension, 1))\\n        step_part2 = normal(0, sigma_v, (self.dimension, 1))\\n        step = step_part1 / (torch.abs(step_part2) ** (1 / beta))\\n        return self.alpha * step\\n\\n    def random_generate_sampe(self, size, *arg):\\n        init_points = (rand(self.dimension, size) - 0.5) * 40\\n        init_points = list(torch.split(init_points, split_size_or_sections=1, dim=1))\\n        return init_points\";\n",
       "                var nbb_formatted_code = \"class FPA(object):\\n    def __init__(\\n        self,\\n        function,\\n        pop_size=50,\\n        low_bound=-20,\\n        up_bound=20,\\n        dimension=10,\\n        p=0.8,\\n        alpha=0.9,\\n        **kwargs\\n    ):\\n\\n        self.pop_size = pop_size\\n        self.low_bound = low_bound\\n        self.up_bound = up_bound\\n        self.dimension = dimension\\n        self.obj_f = function\\n        self.p = p\\n        self.alpha = alpha\\n\\n    def forward(self, iteration_time, **kwargs):\\n        init_points_list = self.random_generate_sampe(size=self.pop_size)\\n        points_list = init_points_list[:]\\n\\n        init_function_values_list = [\\n            self.obj_f(sub_point, **kwargs) for sub_point in init_points_list\\n        ]\\n        function_values = init_function_values_list[:]\\n\\n        global_best_value_each_step = []\\n        global_best_point_each_step = []\\n\\n        global_best_index = argmin(function_values)\\n        global_best_value_each_step.append(function_values[global_best_index])\\n        global_best_point_each_step.append(points_list[global_best_index])\\n\\n        for t in tqdm(range(iteration_time)):\\n            for i in range(self.pop_size):\\n                if rand(1) < self.p:\\n                    new_point = points_list[i] + self.levy_fly() * (\\n                        global_best_point_each_step[-1] - points_list[i]\\n                    )\\n                else:\\n                    rand_index = choices(range(self.pop_size), k=2)\\n                    new_point = points_list[i] + rand(self.dimension, 1) * (\\n                        points_list[rand_index[0]] - points_list[rand_index[1]]\\n                    )\\n\\n                temp_function_value = self.obj_f(new_point, **kwargs)\\n                if temp_function_value < function_values[i]:\\n                    function_values[i] = temp_function_value\\n                    points_list[i] = new_point\\n\\n            global_best_index = argmin(function_values)\\n            global_best_value_each_step.append(function_values[global_best_index])\\n            global_best_point_each_step.append(points_list[global_best_index])\\n\\n        return global_best_value_each_step, global_best_point_each_step\\n\\n    def levy_fly(\\n        self,\\n    ):\\n        beta = 1.5\\n        sigma_u = (\\n            (gamma(1 + beta) * sin(0.5 * pi * beta))\\n            / (gamma(0.5 * (1 + beta)) * beta * (2 ** (0.5 * (beta - 1))))\\n        ) ** (1 / beta)\\n        sigma_v = 1\\n        step_part1 = normal(0, sigma_u, (self.dimension, 1))\\n        step_part2 = normal(0, sigma_v, (self.dimension, 1))\\n        step = step_part1 / (torch.abs(step_part2) ** (1 / beta))\\n        return self.alpha * step\\n\\n    def random_generate_sampe(self, size, *arg):\\n        init_points = (rand(self.dimension, size) - 0.5) * 40\\n        init_points = list(torch.split(init_points, split_size_or_sections=1, dim=1))\\n        return init_points\";\n",
       "                var nbb_cells = Jupyter.notebook.get_cells();\n",
       "                for (var i = 0; i < nbb_cells.length; ++i) {\n",
       "                    if (nbb_cells[i].input_prompt_number == nbb_cell_id) {\n",
       "                        if (nbb_cells[i].get_text() == nbb_unformatted_code) {\n",
       "                             nbb_cells[i].set_text(nbb_formatted_code);\n",
       "                        }\n",
       "                        break;\n",
       "                    }\n",
       "                }\n",
       "            }, 500);\n",
       "            "
      ],
      "text/plain": [
       "<IPython.core.display.Javascript object>"
      ]
     },
     "metadata": {},
     "output_type": "display_data"
    }
   ],
   "source": [
    "class FPA(object):\n",
    "    def __init__(\n",
    "        self,\n",
    "        function,\n",
    "        pop_size=50,\n",
    "        low_bound=-20,\n",
    "        up_bound=20,\n",
    "        dimension=10,\n",
    "        p=0.8,\n",
    "        alpha=0.9,\n",
    "        **kwargs\n",
    "    ):\n",
    "\n",
    "        self.pop_size = pop_size\n",
    "        self.low_bound = low_bound\n",
    "        self.up_bound = up_bound\n",
    "        self.dimension = dimension\n",
    "        self.obj_f = function\n",
    "        self.p = p\n",
    "        self.alpha = alpha\n",
    "\n",
    "    def forward(self, iteration_time, **kwargs):\n",
    "        init_points_list = self.random_generate_sampe(size=self.pop_size)\n",
    "        points_list = init_points_list[:]\n",
    "\n",
    "        init_function_values_list = [\n",
    "            self.obj_f(sub_point, **kwargs) for sub_point in init_points_list\n",
    "        ]\n",
    "        function_values = init_function_values_list[:]\n",
    "\n",
    "        global_best_value_each_step = []\n",
    "        global_best_point_each_step = []\n",
    "\n",
    "        global_best_index = argmin(function_values)\n",
    "        global_best_value_each_step.append(function_values[global_best_index])\n",
    "        global_best_point_each_step.append(points_list[global_best_index])\n",
    "\n",
    "        for t in tqdm(range(iteration_time)):\n",
    "            for i in range(self.pop_size):\n",
    "                if rand(1) < self.p:\n",
    "                    new_point = points_list[i] + self.levy_fly() * (\n",
    "                        global_best_point_each_step[-1] - points_list[i]\n",
    "                    )\n",
    "                else:\n",
    "                    rand_index = choices(range(self.pop_size), k=2)\n",
    "                    new_point = points_list[i] + rand(self.dimension, 1) * (\n",
    "                        points_list[rand_index[0]] - points_list[rand_index[1]]\n",
    "                    )\n",
    "\n",
    "                temp_function_value = self.obj_f(new_point, **kwargs)\n",
    "                if temp_function_value < function_values[i]:\n",
    "                    function_values[i] = temp_function_value\n",
    "                    points_list[i] = new_point\n",
    "\n",
    "            global_best_index = argmin(function_values)\n",
    "            global_best_value_each_step.append(function_values[global_best_index])\n",
    "            global_best_point_each_step.append(points_list[global_best_index])\n",
    "\n",
    "        return global_best_value_each_step, global_best_point_each_step\n",
    "\n",
    "    def levy_fly(\n",
    "        self,\n",
    "    ):\n",
    "        beta = 1.5\n",
    "        sigma_u = (\n",
    "            (gamma(1 + beta) * sin(0.5 * pi * beta))\n",
    "            / (gamma(0.5 * (1 + beta)) * beta * (2 ** (0.5 * (beta - 1))))\n",
    "        ) ** (1 / beta)\n",
    "        sigma_v = 1\n",
    "        step_part1 = normal(0, sigma_u, (self.dimension, 1))\n",
    "        step_part2 = normal(0, sigma_v, (self.dimension, 1))\n",
    "        step = step_part1 / (torch.abs(step_part2) ** (1 / beta))\n",
    "        return self.alpha * step\n",
    "\n",
    "    def random_generate_sampe(self, size, *arg):\n",
    "        init_points = (rand(self.dimension, size) - 0.5) * 40\n",
    "        init_points = list(torch.split(init_points, split_size_or_sections=1, dim=1))\n",
    "        return init_points"
   ]
  },
  {
   "cell_type": "code",
   "execution_count": 106,
   "metadata": {},
   "outputs": [
    {
     "data": {
      "application/javascript": [
       "\n",
       "            setTimeout(function() {\n",
       "                var nbb_cell_id = 106;\n",
       "                var nbb_unformatted_code = \"fpa_ackley_10dim = FPA(function=ackley_f)\\nfpa_ackley_20dim = FPA(function=ackley_f, dimension=20)\";\n",
       "                var nbb_formatted_code = \"fpa_ackley_10dim = FPA(function=ackley_f)\\nfpa_ackley_20dim = FPA(function=ackley_f, dimension=20)\";\n",
       "                var nbb_cells = Jupyter.notebook.get_cells();\n",
       "                for (var i = 0; i < nbb_cells.length; ++i) {\n",
       "                    if (nbb_cells[i].input_prompt_number == nbb_cell_id) {\n",
       "                        if (nbb_cells[i].get_text() == nbb_unformatted_code) {\n",
       "                             nbb_cells[i].set_text(nbb_formatted_code);\n",
       "                        }\n",
       "                        break;\n",
       "                    }\n",
       "                }\n",
       "            }, 500);\n",
       "            "
      ],
      "text/plain": [
       "<IPython.core.display.Javascript object>"
      ]
     },
     "metadata": {},
     "output_type": "display_data"
    }
   ],
   "source": [
    "fpa_ackley_10dim = FPA(function=ackley_f)\n",
    "fpa_ackley_20dim = FPA(function=ackley_f, dimension=20)"
   ]
  },
  {
   "cell_type": "code",
   "execution_count": 107,
   "metadata": {},
   "outputs": [
    {
     "name": "stderr",
     "output_type": "stream",
     "text": [
      "100%|██████████| 300/300 [00:07<00:00, 39.92it/s]\n",
      "100%|██████████| 300/300 [00:06<00:00, 46.60it/s]\n",
      "100%|██████████| 300/300 [00:06<00:00, 47.60it/s]\n",
      "100%|██████████| 300/300 [00:06<00:00, 46.16it/s]\n",
      "100%|██████████| 300/300 [00:05<00:00, 51.25it/s]\n",
      "100%|██████████| 300/300 [00:07<00:00, 40.68it/s]\n",
      "100%|██████████| 300/300 [00:07<00:00, 41.22it/s]\n",
      "100%|██████████| 300/300 [00:06<00:00, 46.57it/s]\n",
      "100%|██████████| 300/300 [00:06<00:00, 43.91it/s]\n",
      "100%|██████████| 300/300 [00:06<00:00, 46.84it/s]\n",
      "100%|██████████| 300/300 [00:06<00:00, 46.14it/s]\n",
      "100%|██████████| 300/300 [00:06<00:00, 43.92it/s]\n",
      "100%|██████████| 300/300 [00:05<00:00, 51.81it/s]\n",
      "100%|██████████| 300/300 [00:06<00:00, 44.02it/s]\n",
      "100%|██████████| 300/300 [00:07<00:00, 42.42it/s]\n",
      "100%|██████████| 300/300 [00:07<00:00, 42.15it/s]\n",
      "100%|██████████| 300/300 [00:07<00:00, 39.70it/s]\n",
      "100%|██████████| 300/300 [00:07<00:00, 40.40it/s]\n",
      "100%|██████████| 300/300 [00:06<00:00, 46.35it/s]\n",
      "100%|██████████| 300/300 [00:06<00:00, 49.87it/s]\n"
     ]
    },
    {
     "data": {
      "application/javascript": [
       "\n",
       "            setTimeout(function() {\n",
       "                var nbb_cell_id = 107;\n",
       "                var nbb_unformatted_code = \"all_values_list_ackley_10dim = []\\nfor i in range(20):\\n    values, points = fpa_ackley_10dim.forward(300)\\n    all_values_list_ackley_10dim.append(torch.Tensor(values))\";\n",
       "                var nbb_formatted_code = \"all_values_list_ackley_10dim = []\\nfor i in range(20):\\n    values, points = fpa_ackley_10dim.forward(300)\\n    all_values_list_ackley_10dim.append(torch.Tensor(values))\";\n",
       "                var nbb_cells = Jupyter.notebook.get_cells();\n",
       "                for (var i = 0; i < nbb_cells.length; ++i) {\n",
       "                    if (nbb_cells[i].input_prompt_number == nbb_cell_id) {\n",
       "                        if (nbb_cells[i].get_text() == nbb_unformatted_code) {\n",
       "                             nbb_cells[i].set_text(nbb_formatted_code);\n",
       "                        }\n",
       "                        break;\n",
       "                    }\n",
       "                }\n",
       "            }, 500);\n",
       "            "
      ],
      "text/plain": [
       "<IPython.core.display.Javascript object>"
      ]
     },
     "metadata": {},
     "output_type": "display_data"
    }
   ],
   "source": [
    "all_values_list_ackley_10dim = []\n",
    "for i in range(20):\n",
    "    values, points = fpa_ackley_10dim.forward(300)\n",
    "    all_values_list_ackley_10dim.append(torch.Tensor(values))"
   ]
  },
  {
   "cell_type": "code",
   "execution_count": 108,
   "metadata": {},
   "outputs": [
    {
     "name": "stderr",
     "output_type": "stream",
     "text": [
      "100%|██████████| 1300/1300 [00:26<00:00, 48.82it/s]\n",
      "100%|██████████| 1300/1300 [00:28<00:00, 44.87it/s]\n",
      "100%|██████████| 1300/1300 [00:27<00:00, 47.62it/s]\n",
      "100%|██████████| 1300/1300 [00:27<00:00, 47.27it/s]\n",
      "100%|██████████| 1300/1300 [00:26<00:00, 48.61it/s]\n",
      "100%|██████████| 1300/1300 [00:28<00:00, 45.40it/s]\n",
      "100%|██████████| 1300/1300 [00:27<00:00, 47.01it/s]\n",
      "100%|██████████| 1300/1300 [00:28<00:00, 46.31it/s]\n",
      "100%|██████████| 1300/1300 [00:30<00:00, 43.05it/s]\n",
      "100%|██████████| 1300/1300 [00:26<00:00, 48.24it/s]\n",
      "100%|██████████| 1300/1300 [00:29<00:00, 43.82it/s]\n",
      "100%|██████████| 1300/1300 [00:28<00:00, 45.81it/s]\n",
      "100%|██████████| 1300/1300 [00:30<00:00, 42.62it/s]\n",
      "100%|██████████| 1300/1300 [00:27<00:00, 46.97it/s]\n",
      "100%|██████████| 1300/1300 [00:28<00:00, 45.28it/s]\n",
      "100%|██████████| 1300/1300 [00:28<00:00, 45.49it/s]\n",
      "100%|██████████| 1300/1300 [00:29<00:00, 43.74it/s]\n",
      "100%|██████████| 1300/1300 [00:29<00:00, 44.77it/s]\n",
      "100%|██████████| 1300/1300 [00:28<00:00, 46.09it/s]\n",
      "100%|██████████| 1300/1300 [00:29<00:00, 44.67it/s]\n"
     ]
    },
    {
     "data": {
      "application/javascript": [
       "\n",
       "            setTimeout(function() {\n",
       "                var nbb_cell_id = 108;\n",
       "                var nbb_unformatted_code = \"all_values_list_ackley_20dim = []\\nfor i in range(20):\\n    values, points = fpa_ackley_20dim.forward(1300)\\n    all_values_list_ackley_20dim.append(torch.Tensor(values))\";\n",
       "                var nbb_formatted_code = \"all_values_list_ackley_20dim = []\\nfor i in range(20):\\n    values, points = fpa_ackley_20dim.forward(1300)\\n    all_values_list_ackley_20dim.append(torch.Tensor(values))\";\n",
       "                var nbb_cells = Jupyter.notebook.get_cells();\n",
       "                for (var i = 0; i < nbb_cells.length; ++i) {\n",
       "                    if (nbb_cells[i].input_prompt_number == nbb_cell_id) {\n",
       "                        if (nbb_cells[i].get_text() == nbb_unformatted_code) {\n",
       "                             nbb_cells[i].set_text(nbb_formatted_code);\n",
       "                        }\n",
       "                        break;\n",
       "                    }\n",
       "                }\n",
       "            }, 500);\n",
       "            "
      ],
      "text/plain": [
       "<IPython.core.display.Javascript object>"
      ]
     },
     "metadata": {},
     "output_type": "display_data"
    }
   ],
   "source": [
    "all_values_list_ackley_20dim = []\n",
    "for i in range(20):\n",
    "    values, points = fpa_ackley_20dim.forward(1300)\n",
    "    all_values_list_ackley_20dim.append(torch.Tensor(values))"
   ]
  },
  {
   "cell_type": "code",
   "execution_count": 181,
   "metadata": {},
   "outputs": [
    {
     "data": {
      "application/javascript": [
       "\n",
       "            setTimeout(function() {\n",
       "                var nbb_cell_id = 181;\n",
       "                var nbb_unformatted_code = \"fpa_weierstrass_10dim = FPA(function=weierstrass_f)\\nfpa_weierstrass_20dim = FPA(function=weierstrass_f, dimension=20, p=0.5, alpha=0.6)\";\n",
       "                var nbb_formatted_code = \"fpa_weierstrass_10dim = FPA(function=weierstrass_f)\\nfpa_weierstrass_20dim = FPA(function=weierstrass_f, dimension=20, p=0.5, alpha=0.6)\";\n",
       "                var nbb_cells = Jupyter.notebook.get_cells();\n",
       "                for (var i = 0; i < nbb_cells.length; ++i) {\n",
       "                    if (nbb_cells[i].input_prompt_number == nbb_cell_id) {\n",
       "                        if (nbb_cells[i].get_text() == nbb_unformatted_code) {\n",
       "                             nbb_cells[i].set_text(nbb_formatted_code);\n",
       "                        }\n",
       "                        break;\n",
       "                    }\n",
       "                }\n",
       "            }, 500);\n",
       "            "
      ],
      "text/plain": [
       "<IPython.core.display.Javascript object>"
      ]
     },
     "metadata": {},
     "output_type": "display_data"
    }
   ],
   "source": [
    "fpa_weierstrass_10dim = FPA(function=weierstrass_f)\n",
    "fpa_weierstrass_20dim = FPA(function=weierstrass_f, dimension=20, p=0.5, alpha=0.6)"
   ]
  },
  {
   "cell_type": "code",
   "execution_count": 182,
   "metadata": {},
   "outputs": [
    {
     "name": "stderr",
     "output_type": "stream",
     "text": [
      "100%|██████████| 150/150 [00:21<00:00,  6.87it/s]\n",
      "100%|██████████| 150/150 [00:21<00:00,  7.01it/s]\n",
      "100%|██████████| 150/150 [00:23<00:00,  6.33it/s]\n",
      "100%|██████████| 150/150 [00:21<00:00,  6.96it/s]\n",
      "100%|██████████| 150/150 [00:21<00:00,  7.00it/s]\n",
      "100%|██████████| 150/150 [00:22<00:00,  6.62it/s]\n",
      "100%|██████████| 150/150 [00:21<00:00,  6.82it/s]\n",
      "100%|██████████| 150/150 [00:21<00:00,  7.06it/s]\n",
      "100%|██████████| 150/150 [00:21<00:00,  6.87it/s]\n",
      "100%|██████████| 150/150 [00:19<00:00,  7.58it/s]\n",
      "100%|██████████| 150/150 [00:21<00:00,  7.02it/s]\n",
      "100%|██████████| 150/150 [00:26<00:00,  5.75it/s]\n",
      "100%|██████████| 150/150 [00:26<00:00,  5.57it/s]\n",
      "100%|██████████| 150/150 [00:22<00:00,  6.76it/s]\n",
      "100%|██████████| 150/150 [00:21<00:00,  6.86it/s]\n",
      "100%|██████████| 150/150 [00:22<00:00,  6.53it/s]\n",
      "100%|██████████| 150/150 [00:21<00:00,  7.08it/s]\n",
      "100%|██████████| 150/150 [00:21<00:00,  7.13it/s]\n",
      "100%|██████████| 150/150 [00:22<00:00,  6.55it/s]\n",
      "100%|██████████| 150/150 [00:22<00:00,  6.80it/s]\n"
     ]
    },
    {
     "data": {
      "application/javascript": [
       "\n",
       "            setTimeout(function() {\n",
       "                var nbb_cell_id = 182;\n",
       "                var nbb_unformatted_code = \"all_values_list_weierstrass_10dim = []\\nfor i in range(20):\\n    values, points = fpa_weierstrass_10dim.forward(150)\\n    all_values_list_weierstrass_10dim.append(torch.Tensor(values))\";\n",
       "                var nbb_formatted_code = \"all_values_list_weierstrass_10dim = []\\nfor i in range(20):\\n    values, points = fpa_weierstrass_10dim.forward(150)\\n    all_values_list_weierstrass_10dim.append(torch.Tensor(values))\";\n",
       "                var nbb_cells = Jupyter.notebook.get_cells();\n",
       "                for (var i = 0; i < nbb_cells.length; ++i) {\n",
       "                    if (nbb_cells[i].input_prompt_number == nbb_cell_id) {\n",
       "                        if (nbb_cells[i].get_text() == nbb_unformatted_code) {\n",
       "                             nbb_cells[i].set_text(nbb_formatted_code);\n",
       "                        }\n",
       "                        break;\n",
       "                    }\n",
       "                }\n",
       "            }, 500);\n",
       "            "
      ],
      "text/plain": [
       "<IPython.core.display.Javascript object>"
      ]
     },
     "metadata": {},
     "output_type": "display_data"
    }
   ],
   "source": [
    "all_values_list_weierstrass_10dim = []\n",
    "for i in range(20):\n",
    "    values, points = fpa_weierstrass_10dim.forward(150)\n",
    "    all_values_list_weierstrass_10dim.append(torch.Tensor(values))"
   ]
  },
  {
   "cell_type": "code",
   "execution_count": 183,
   "metadata": {},
   "outputs": [
    {
     "name": "stderr",
     "output_type": "stream",
     "text": [
      "100%|██████████| 600/600 [01:30<00:00,  6.66it/s]\n",
      "100%|██████████| 600/600 [01:24<00:00,  7.13it/s]\n",
      "100%|██████████| 600/600 [01:22<00:00,  7.27it/s]\n",
      "100%|██████████| 600/600 [01:25<00:00,  7.05it/s]\n",
      "100%|██████████| 600/600 [01:25<00:00,  7.05it/s]\n",
      "100%|██████████| 600/600 [01:33<00:00,  6.43it/s]\n",
      "100%|██████████| 600/600 [01:22<00:00,  7.26it/s]\n",
      "100%|██████████| 600/600 [01:25<00:00,  6.98it/s]\n",
      "100%|██████████| 600/600 [01:25<00:00,  7.01it/s]\n",
      "100%|██████████| 600/600 [01:30<00:00,  6.61it/s]\n",
      "100%|██████████| 600/600 [01:38<00:00,  6.08it/s]\n",
      "100%|██████████| 600/600 [01:34<00:00,  6.35it/s]\n",
      "100%|██████████| 600/600 [01:24<00:00,  7.13it/s]\n",
      "100%|██████████| 600/600 [01:24<00:00,  7.06it/s]\n",
      "100%|██████████| 600/600 [01:24<00:00,  7.10it/s]\n",
      "100%|██████████| 600/600 [01:25<00:00,  7.01it/s]\n",
      "100%|██████████| 600/600 [01:26<00:00,  6.92it/s]\n",
      "100%|██████████| 600/600 [01:22<00:00,  7.27it/s]\n",
      "100%|██████████| 600/600 [01:23<00:00,  7.20it/s]\n",
      "100%|██████████| 600/600 [01:28<00:00,  6.75it/s]\n"
     ]
    },
    {
     "data": {
      "application/javascript": [
       "\n",
       "            setTimeout(function() {\n",
       "                var nbb_cell_id = 183;\n",
       "                var nbb_unformatted_code = \"all_values_list_weierstrass_20dim = []\\nfor i in range(20):\\n    values, points = fpa_weierstrass_20dim.forward(600)\\n    all_values_list_weierstrass_20dim.append(torch.Tensor(values))\";\n",
       "                var nbb_formatted_code = \"all_values_list_weierstrass_20dim = []\\nfor i in range(20):\\n    values, points = fpa_weierstrass_20dim.forward(600)\\n    all_values_list_weierstrass_20dim.append(torch.Tensor(values))\";\n",
       "                var nbb_cells = Jupyter.notebook.get_cells();\n",
       "                for (var i = 0; i < nbb_cells.length; ++i) {\n",
       "                    if (nbb_cells[i].input_prompt_number == nbb_cell_id) {\n",
       "                        if (nbb_cells[i].get_text() == nbb_unformatted_code) {\n",
       "                             nbb_cells[i].set_text(nbb_formatted_code);\n",
       "                        }\n",
       "                        break;\n",
       "                    }\n",
       "                }\n",
       "            }, 500);\n",
       "            "
      ],
      "text/plain": [
       "<IPython.core.display.Javascript object>"
      ]
     },
     "metadata": {},
     "output_type": "display_data"
    }
   ],
   "source": [
    "all_values_list_weierstrass_20dim = []\n",
    "for i in range(20):\n",
    "    values, points = fpa_weierstrass_20dim.forward(600)\n",
    "    all_values_list_weierstrass_20dim.append(torch.Tensor(values))"
   ]
  },
  {
   "cell_type": "markdown",
   "metadata": {},
   "source": [
    "# Visualization"
   ]
  },
  {
   "cell_type": "code",
   "execution_count": 38,
   "metadata": {},
   "outputs": [
    {
     "data": {
      "application/javascript": [
       "\n",
       "            setTimeout(function() {\n",
       "                var nbb_cell_id = 38;\n",
       "                var nbb_unformatted_code = \"import numpy as np\";\n",
       "                var nbb_formatted_code = \"import numpy as np\";\n",
       "                var nbb_cells = Jupyter.notebook.get_cells();\n",
       "                for (var i = 0; i < nbb_cells.length; ++i) {\n",
       "                    if (nbb_cells[i].input_prompt_number == nbb_cell_id) {\n",
       "                        if (nbb_cells[i].get_text() == nbb_unformatted_code) {\n",
       "                             nbb_cells[i].set_text(nbb_formatted_code);\n",
       "                        }\n",
       "                        break;\n",
       "                    }\n",
       "                }\n",
       "            }, 500);\n",
       "            "
      ],
      "text/plain": [
       "<IPython.core.display.Javascript object>"
      ]
     },
     "metadata": {},
     "output_type": "display_data"
    }
   ],
   "source": [
    "import numpy as np"
   ]
  },
  {
   "cell_type": "code",
   "execution_count": 14,
   "metadata": {},
   "outputs": [
    {
     "data": {
      "application/javascript": [
       "\n",
       "            setTimeout(function() {\n",
       "                var nbb_cell_id = 14;\n",
       "                var nbb_unformatted_code = \"import matplotlib.pyplot as plt\";\n",
       "                var nbb_formatted_code = \"import matplotlib.pyplot as plt\";\n",
       "                var nbb_cells = Jupyter.notebook.get_cells();\n",
       "                for (var i = 0; i < nbb_cells.length; ++i) {\n",
       "                    if (nbb_cells[i].input_prompt_number == nbb_cell_id) {\n",
       "                        if (nbb_cells[i].get_text() == nbb_unformatted_code) {\n",
       "                             nbb_cells[i].set_text(nbb_formatted_code);\n",
       "                        }\n",
       "                        break;\n",
       "                    }\n",
       "                }\n",
       "            }, 500);\n",
       "            "
      ],
      "text/plain": [
       "<IPython.core.display.Javascript object>"
      ]
     },
     "metadata": {},
     "output_type": "display_data"
    }
   ],
   "source": [
    "import matplotlib.pyplot as plt"
   ]
  },
  {
   "cell_type": "markdown",
   "metadata": {},
   "source": [
    "## Ackley function"
   ]
  },
  {
   "cell_type": "code",
   "execution_count": 112,
   "metadata": {},
   "outputs": [
    {
     "data": {
      "application/javascript": [
       "\n",
       "            setTimeout(function() {\n",
       "                var nbb_cell_id = 112;\n",
       "                var nbb_unformatted_code = \"all_values_tensor_ackley_10dim = torch.stack(all_values_list_ackley_10dim).numpy()\\nmax_line_10d = all_values_tensor_ackley_10dim.max(axis=0)\\nmean_line_10d = all_values_tensor_ackley_10dim.mean(axis=0)\\nmin_line_10d = all_values_tensor_ackley_10dim.min(axis=0)\\n\\nall_values_tensor_ackley_20dim = torch.stack(all_values_list_ackley_20dim).numpy()\\nmax_line_20d = all_values_tensor_ackley_20dim.max(axis=0)\\nmean_line_20d = all_values_tensor_ackley_20dim.mean(axis=0)\\nmin_line_20d = all_values_tensor_ackley_20dim.min(axis=0)\";\n",
       "                var nbb_formatted_code = \"all_values_tensor_ackley_10dim = torch.stack(all_values_list_ackley_10dim).numpy()\\nmax_line_10d = all_values_tensor_ackley_10dim.max(axis=0)\\nmean_line_10d = all_values_tensor_ackley_10dim.mean(axis=0)\\nmin_line_10d = all_values_tensor_ackley_10dim.min(axis=0)\\n\\nall_values_tensor_ackley_20dim = torch.stack(all_values_list_ackley_20dim).numpy()\\nmax_line_20d = all_values_tensor_ackley_20dim.max(axis=0)\\nmean_line_20d = all_values_tensor_ackley_20dim.mean(axis=0)\\nmin_line_20d = all_values_tensor_ackley_20dim.min(axis=0)\";\n",
       "                var nbb_cells = Jupyter.notebook.get_cells();\n",
       "                for (var i = 0; i < nbb_cells.length; ++i) {\n",
       "                    if (nbb_cells[i].input_prompt_number == nbb_cell_id) {\n",
       "                        if (nbb_cells[i].get_text() == nbb_unformatted_code) {\n",
       "                             nbb_cells[i].set_text(nbb_formatted_code);\n",
       "                        }\n",
       "                        break;\n",
       "                    }\n",
       "                }\n",
       "            }, 500);\n",
       "            "
      ],
      "text/plain": [
       "<IPython.core.display.Javascript object>"
      ]
     },
     "metadata": {},
     "output_type": "display_data"
    }
   ],
   "source": [
    "all_values_tensor_ackley_10dim = torch.stack(all_values_list_ackley_10dim).numpy()\n",
    "max_line_10d = all_values_tensor_ackley_10dim.max(axis=0)\n",
    "mean_line_10d = all_values_tensor_ackley_10dim.mean(axis=0)\n",
    "min_line_10d = all_values_tensor_ackley_10dim.min(axis=0)\n",
    "\n",
    "all_values_tensor_ackley_20dim = torch.stack(all_values_list_ackley_20dim).numpy()\n",
    "max_line_20d = all_values_tensor_ackley_20dim.max(axis=0)\n",
    "mean_line_20d = all_values_tensor_ackley_20dim.mean(axis=0)\n",
    "min_line_20d = all_values_tensor_ackley_20dim.min(axis=0)"
   ]
  },
  {
   "cell_type": "code",
   "execution_count": 116,
   "metadata": {},
   "outputs": [
    {
     "data": {
      "text/plain": [
       "[0.052844334, 0.036194965, 0.114312746, 0.05666527]"
      ]
     },
     "execution_count": 116,
     "metadata": {},
     "output_type": "execute_result"
    },
    {
     "data": {
      "application/javascript": [
       "\n",
       "            setTimeout(function() {\n",
       "                var nbb_cell_id = 116;\n",
       "                var nbb_unformatted_code = \"[\\n    mean_line_10d[-1],\\n    all_values_tensor_ackley_10dim.std(axis=0)[-1],\\n    mean_line_20d[-1],\\n    all_values_tensor_ackley_20dim.std(axis=0)[-1],\\n]\";\n",
       "                var nbb_formatted_code = \"[\\n    mean_line_10d[-1],\\n    all_values_tensor_ackley_10dim.std(axis=0)[-1],\\n    mean_line_20d[-1],\\n    all_values_tensor_ackley_20dim.std(axis=0)[-1],\\n]\";\n",
       "                var nbb_cells = Jupyter.notebook.get_cells();\n",
       "                for (var i = 0; i < nbb_cells.length; ++i) {\n",
       "                    if (nbb_cells[i].input_prompt_number == nbb_cell_id) {\n",
       "                        if (nbb_cells[i].get_text() == nbb_unformatted_code) {\n",
       "                             nbb_cells[i].set_text(nbb_formatted_code);\n",
       "                        }\n",
       "                        break;\n",
       "                    }\n",
       "                }\n",
       "            }, 500);\n",
       "            "
      ],
      "text/plain": [
       "<IPython.core.display.Javascript object>"
      ]
     },
     "metadata": {},
     "output_type": "display_data"
    }
   ],
   "source": [
    "[\n",
    "    mean_line_10d[-1],\n",
    "    all_values_tensor_ackley_10dim.std(axis=0)[-1],\n",
    "    mean_line_20d[-1],\n",
    "    all_values_tensor_ackley_20dim.std(axis=0)[-1],\n",
    "]"
   ]
  },
  {
   "cell_type": "code",
   "execution_count": 113,
   "metadata": {},
   "outputs": [
    {
     "data": {
      "image/png": "[encoded data removed]",
      "text/plain": [
       "<Figure size 576x432 with 1 Axes>"
      ]
     },
     "metadata": {
      "needs_background": "light"
     },
     "output_type": "display_data"
    },
    {
     "data": {
      "application/javascript": [
       "\n",
       "            setTimeout(function() {\n",
       "                var nbb_cell_id = 113;\n",
       "                var nbb_unformatted_code = \"plt.figure(figsize=(8, 6))\\nplt.plot(range(301), mean_line_10d)\\nplt.fill_between(\\n    range(301), min_line_10d, max_line_10d, color=\\\"b\\\", alpha=0.1, label=\\\"dimension-10\\\"\\n)\\n\\nplt.plot(range(1301), mean_line_20d)\\nplt.fill_between(\\n    range(1301), min_line_20d, max_line_20d, color=\\\"r\\\", alpha=0.1, label=\\\"dimension-20\\\"\\n)\\nplt.xlabel(\\\"Number of iterations\\\", weight=\\\"bold\\\", size=12)\\nplt.ylabel(\\\"function values\\\", weight=\\\"bold\\\", size=12)\\nplt.title(\\\"Ackley function\\\", weight=\\\"bold\\\", size=15)\\nplt.grid(True)\\nplt.legend()\\nplt.show()\";\n",
       "                var nbb_formatted_code = \"plt.figure(figsize=(8, 6))\\nplt.plot(range(301), mean_line_10d)\\nplt.fill_between(\\n    range(301), min_line_10d, max_line_10d, color=\\\"b\\\", alpha=0.1, label=\\\"dimension-10\\\"\\n)\\n\\nplt.plot(range(1301), mean_line_20d)\\nplt.fill_between(\\n    range(1301), min_line_20d, max_line_20d, color=\\\"r\\\", alpha=0.1, label=\\\"dimension-20\\\"\\n)\\nplt.xlabel(\\\"Number of iterations\\\", weight=\\\"bold\\\", size=12)\\nplt.ylabel(\\\"function values\\\", weight=\\\"bold\\\", size=12)\\nplt.title(\\\"Ackley function\\\", weight=\\\"bold\\\", size=15)\\nplt.grid(True)\\nplt.legend()\\nplt.show()\";\n",
       "                var nbb_cells = Jupyter.notebook.get_cells();\n",
       "                for (var i = 0; i < nbb_cells.length; ++i) {\n",
       "                    if (nbb_cells[i].input_prompt_number == nbb_cell_id) {\n",
       "                        if (nbb_cells[i].get_text() == nbb_unformatted_code) {\n",
       "                             nbb_cells[i].set_text(nbb_formatted_code);\n",
       "                        }\n",
       "                        break;\n",
       "                    }\n",
       "                }\n",
       "            }, 500);\n",
       "            "
      ],
      "text/plain": [
       "<IPython.core.display.Javascript object>"
      ]
     },
     "metadata": {},
     "output_type": "display_data"
    }
   ],
   "source": [
    "plt.figure(figsize=(8, 6))\n",
    "plt.plot(range(301), mean_line_10d)\n",
    "plt.fill_between(\n",
    "    range(301), min_line_10d, max_line_10d, color=\"b\", alpha=0.1, label=\"dimension-10\"\n",
    ")\n",
    "\n",
    "plt.plot(range(1301), mean_line_20d)\n",
    "plt.fill_between(\n",
    "    range(1301), min_line_20d, max_line_20d, color=\"r\", alpha=0.1, label=\"dimension-20\"\n",
    ")\n",
    "plt.xlabel(\"Number of iterations\", weight=\"bold\", size=12)\n",
    "plt.ylabel(\"function values\", weight=\"bold\", size=12)\n",
    "plt.title(\"Ackley function\", weight=\"bold\", size=15)\n",
    "plt.grid(True)\n",
    "plt.legend()\n",
    "plt.show()"
   ]
  },
  {
   "cell_type": "markdown",
   "metadata": {},
   "source": [
    "## Weierstrass function"
   ]
  },
  {
   "cell_type": "code",
   "execution_count": 185,
   "metadata": {},
   "outputs": [
    {
     "data": {
      "application/javascript": [
       "\n",
       "            setTimeout(function() {\n",
       "                var nbb_cell_id = 185;\n",
       "                var nbb_unformatted_code = \"all_values_tensor_weierstrass_10dim = torch.stack(\\n    all_values_list_weierstrass_10dim\\n).numpy()\\nmax_line_weierstrass_10d = all_values_tensor_weierstrass_10dim.max(axis=0)\\nmean_line_weierstrass_10d = all_values_tensor_weierstrass_10dim.mean(axis=0)\\nmin_line_weierstrass_10d = all_values_tensor_weierstrass_10dim.min(axis=0)\\n\\nall_values_tensor_weierstrass_20dim = torch.stack(\\n    all_values_list_weierstrass_20dim\\n).numpy()\\nmax_line_weierstrass_20d = all_values_tensor_weierstrass_20dim.max(axis=0)\\nmean_line_weierstrass_20d = all_values_tensor_weierstrass_20dim.mean(axis=0)\\nmin_line_weierstrass_20d = all_values_tensor_weierstrass_20dim.min(axis=0)\";\n",
       "                var nbb_formatted_code = \"all_values_tensor_weierstrass_10dim = torch.stack(\\n    all_values_list_weierstrass_10dim\\n).numpy()\\nmax_line_weierstrass_10d = all_values_tensor_weierstrass_10dim.max(axis=0)\\nmean_line_weierstrass_10d = all_values_tensor_weierstrass_10dim.mean(axis=0)\\nmin_line_weierstrass_10d = all_values_tensor_weierstrass_10dim.min(axis=0)\\n\\nall_values_tensor_weierstrass_20dim = torch.stack(\\n    all_values_list_weierstrass_20dim\\n).numpy()\\nmax_line_weierstrass_20d = all_values_tensor_weierstrass_20dim.max(axis=0)\\nmean_line_weierstrass_20d = all_values_tensor_weierstrass_20dim.mean(axis=0)\\nmin_line_weierstrass_20d = all_values_tensor_weierstrass_20dim.min(axis=0)\";\n",
       "                var nbb_cells = Jupyter.notebook.get_cells();\n",
       "                for (var i = 0; i < nbb_cells.length; ++i) {\n",
       "                    if (nbb_cells[i].input_prompt_number == nbb_cell_id) {\n",
       "                        if (nbb_cells[i].get_text() == nbb_unformatted_code) {\n",
       "                             nbb_cells[i].set_text(nbb_formatted_code);\n",
       "                        }\n",
       "                        break;\n",
       "                    }\n",
       "                }\n",
       "            }, 500);\n",
       "            "
      ],
      "text/plain": [
       "<IPython.core.display.Javascript object>"
      ]
     },
     "metadata": {},
     "output_type": "display_data"
    }
   ],
   "source": [
    "all_values_tensor_weierstrass_10dim = torch.stack(\n",
    "    all_values_list_weierstrass_10dim\n",
    ").numpy()\n",
    "max_line_weierstrass_10d = all_values_tensor_weierstrass_10dim.max(axis=0)\n",
    "mean_line_weierstrass_10d = all_values_tensor_weierstrass_10dim.mean(axis=0)\n",
    "min_line_weierstrass_10d = all_values_tensor_weierstrass_10dim.min(axis=0)\n",
    "\n",
    "all_values_tensor_weierstrass_20dim = torch.stack(\n",
    "    all_values_list_weierstrass_20dim\n",
    ").numpy()\n",
    "max_line_weierstrass_20d = all_values_tensor_weierstrass_20dim.max(axis=0)\n",
    "mean_line_weierstrass_20d = all_values_tensor_weierstrass_20dim.mean(axis=0)\n",
    "min_line_weierstrass_20d = all_values_tensor_weierstrass_20dim.min(axis=0)"
   ]
  },
  {
   "cell_type": "code",
   "execution_count": 187,
   "metadata": {},
   "outputs": [
    {
     "data": {
      "text/plain": [
       "[602.06573, 0.37300327, 605.98755, 1.600584]"
      ]
     },
     "execution_count": 187,
     "metadata": {},
     "output_type": "execute_result"
    },
    {
     "data": {
      "application/javascript": [
       "\n",
       "            setTimeout(function() {\n",
       "                var nbb_cell_id = 187;\n",
       "                var nbb_unformatted_code = \"[\\n    max_line_weierstrass_10d[-1],\\n    all_values_tensor_weierstrass_10dim.std(axis=0)[-1],\\n    max_line_weierstrass_20d[-1],\\n    all_values_tensor_weierstrass_20dim.std(axis=0)[-1],\\n]\";\n",
       "                var nbb_formatted_code = \"[\\n    max_line_weierstrass_10d[-1],\\n    all_values_tensor_weierstrass_10dim.std(axis=0)[-1],\\n    max_line_weierstrass_20d[-1],\\n    all_values_tensor_weierstrass_20dim.std(axis=0)[-1],\\n]\";\n",
       "                var nbb_cells = Jupyter.notebook.get_cells();\n",
       "                for (var i = 0; i < nbb_cells.length; ++i) {\n",
       "                    if (nbb_cells[i].input_prompt_number == nbb_cell_id) {\n",
       "                        if (nbb_cells[i].get_text() == nbb_unformatted_code) {\n",
       "                             nbb_cells[i].set_text(nbb_formatted_code);\n",
       "                        }\n",
       "                        break;\n",
       "                    }\n",
       "                }\n",
       "            }, 500);\n",
       "            "
      ],
      "text/plain": [
       "<IPython.core.display.Javascript object>"
      ]
     },
     "metadata": {},
     "output_type": "display_data"
    }
   ],
   "source": [
    "[\n",
    "    max_line_weierstrass_10d[-1],\n",
    "    all_values_tensor_weierstrass_10dim.std(axis=0)[-1],\n",
    "    max_line_weierstrass_20d[-1],\n",
    "    all_values_tensor_weierstrass_20dim.std(axis=0)[-1],\n",
    "]"
   ]
  },
  {
   "cell_type": "code",
   "execution_count": 186,
   "metadata": {},
   "outputs": [
    {
     "data": {
      "image/png": "[encoded data removed]",
      "text/plain": [
       "<Figure size 576x432 with 1 Axes>"
      ]
     },
     "metadata": {
      "needs_background": "light"
     },
     "output_type": "display_data"
    },
    {
     "data": {
      "application/javascript": [
       "\n",
       "            setTimeout(function() {\n",
       "                var nbb_cell_id = 186;\n",
       "                var nbb_unformatted_code = \"plt.figure(figsize=(8, 6))\\nplt.plot(range(151), mean_line_weierstrass_10d)\\nplt.fill_between(\\n    range(151),\\n    min_line_weierstrass_10d,\\n    max_line_weierstrass_10d,\\n    color=\\\"b\\\",\\n    alpha=0.1,\\n    label=\\\"dimension-10\\\",\\n)\\n\\nplt.plot(range(601), mean_line_weierstrass_20d)\\nplt.fill_between(\\n    range(601),\\n    min_line_weierstrass_20d,\\n    max_line_weierstrass_20d,\\n    color=\\\"r\\\",\\n    alpha=0.1,\\n    label=\\\"dimension-20\\\",\\n)\\nplt.xlabel(\\\"Number of iterations\\\", weight=\\\"bold\\\", size=12)\\nplt.ylabel(\\\"function values\\\", weight=\\\"bold\\\", size=12)\\nplt.title(\\\"Shifted and Rotated Weierstrass function\\\", weight=\\\"bold\\\", size=15)\\nplt.grid(True)\\nplt.legend()\\nplt.show()\";\n",
       "                var nbb_formatted_code = \"plt.figure(figsize=(8, 6))\\nplt.plot(range(151), mean_line_weierstrass_10d)\\nplt.fill_between(\\n    range(151),\\n    min_line_weierstrass_10d,\\n    max_line_weierstrass_10d,\\n    color=\\\"b\\\",\\n    alpha=0.1,\\n    label=\\\"dimension-10\\\",\\n)\\n\\nplt.plot(range(601), mean_line_weierstrass_20d)\\nplt.fill_between(\\n    range(601),\\n    min_line_weierstrass_20d,\\n    max_line_weierstrass_20d,\\n    color=\\\"r\\\",\\n    alpha=0.1,\\n    label=\\\"dimension-20\\\",\\n)\\nplt.xlabel(\\\"Number of iterations\\\", weight=\\\"bold\\\", size=12)\\nplt.ylabel(\\\"function values\\\", weight=\\\"bold\\\", size=12)\\nplt.title(\\\"Shifted and Rotated Weierstrass function\\\", weight=\\\"bold\\\", size=15)\\nplt.grid(True)\\nplt.legend()\\nplt.show()\";\n",
       "                var nbb_cells = Jupyter.notebook.get_cells();\n",
       "                for (var i = 0; i < nbb_cells.length; ++i) {\n",
       "                    if (nbb_cells[i].input_prompt_number == nbb_cell_id) {\n",
       "                        if (nbb_cells[i].get_text() == nbb_unformatted_code) {\n",
       "                             nbb_cells[i].set_text(nbb_formatted_code);\n",
       "                        }\n",
       "                        break;\n",
       "                    }\n",
       "                }\n",
       "            }, 500);\n",
       "            "
      ],
      "text/plain": [
       "<IPython.core.display.Javascript object>"
      ]
     },
     "metadata": {},
     "output_type": "display_data"
    }
   ],
   "source": [
    "plt.figure(figsize=(8, 6))\n",
    "plt.plot(range(151), mean_line_weierstrass_10d)\n",
    "plt.fill_between(\n",
    "    range(151),\n",
    "    min_line_weierstrass_10d,\n",
    "    max_line_weierstrass_10d,\n",
    "    color=\"b\",\n",
    "    alpha=0.1,\n",
    "    label=\"dimension-10\",\n",
    ")\n",
    "\n",
    "plt.plot(range(601), mean_line_weierstrass_20d)\n",
    "plt.fill_between(\n",
    "    range(601),\n",
    "    min_line_weierstrass_20d,\n",
    "    max_line_weierstrass_20d,\n",
    "    color=\"r\",\n",
    "    alpha=0.1,\n",
    "    label=\"dimension-20\",\n",
    ")\n",
    "plt.xlabel(\"Number of iterations\", weight=\"bold\", size=12)\n",
    "plt.ylabel(\"function values\", weight=\"bold\", size=12)\n",
    "plt.title(\"Shifted and Rotated Weierstrass function\", weight=\"bold\", size=15)\n",
    "plt.grid(True)\n",
    "plt.legend()\n",
    "plt.show()"
   ]
  },
  {
   "cell_type": "code",
   "execution_count": null,
   "metadata": {},
   "outputs": [],
   "source": []
  }
 ],
 "metadata": {
  "kernelspec": {
   "display_name": "Python 3",
   "language": "python",
   "name": "python3"
  },
  "language_info": {
   "codemirror_mode": {
    "name": "ipython",
    "version": 3
   },
   "file_extension": ".py",
   "mimetype": "text/x-python",
   "name": "python",
   "nbconvert_exporter": "python",
   "pygments_lexer": "ipython3",
   "version": "3.6.9"
  }
 },
 "nbformat": 4,
 "nbformat_minor": 4
}
