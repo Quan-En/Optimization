{
 "cells": [
  {
   "cell_type": "code",
   "execution_count": 1,
   "metadata": {},
   "outputs": [],
   "source": [
    "from SwarmPackagePy.cso import cso\n",
    "from SwarmPackagePy.ba import ba"
   ]
  },
  {
   "cell_type": "code",
   "execution_count": 2,
   "metadata": {},
   "outputs": [],
   "source": [
    "import numpy as np\n",
    "from math import pi, cos"
   ]
  },
  {
   "cell_type": "code",
   "execution_count": 3,
   "metadata": {},
   "outputs": [],
   "source": [
    "def ackley_f(x):\n",
    "    lhs = 20 * np.exp((-0.2) * np.sqrt((x ** 2).mean()))\n",
    "    rhs = np.exp(np.cos(2*pi*x).mean())\n",
    "    result = -1*(lhs + rhs) + 20 + np.exp(1)\n",
    "    return result "
   ]
  },
  {
   "cell_type": "code",
   "execution_count": 4,
   "metadata": {},
   "outputs": [],
   "source": [
    "def weierstrass_f(x, a=0.5, b=3, kmax=20):\n",
    "    x *= 0.005\n",
    "    D = len(x)\n",
    "    \n",
    "    lhs = 0\n",
    "    rhs = 0\n",
    "    for k in range(1,kmax+1):\n",
    "        lhs += np.sum((a**k) * np.cos(2*pi*(b**k)*(x+0.5)))\n",
    "        rhs += (a**k)*np.cos(pi*(b**k))\n",
    "    result = lhs + D*rhs + 600\n",
    "    return result"
   ]
  },
  {
   "cell_type": "code",
   "execution_count": 101,
   "metadata": {},
   "outputs": [],
   "source": [
    "cso_f = cso(n=50, function=ackley_f, lb=-20, ub=20, dimension=10, iteration=500, pa=0.25, nest=50)"
   ]
  },
  {
   "cell_type": "code",
   "execution_count": 102,
   "metadata": {},
   "outputs": [
    {
     "data": {
      "text/plain": [
       "1.0000000000000004"
      ]
     },
     "execution_count": 102,
     "metadata": {},
     "output_type": "execute_result"
    }
   ],
   "source": [
    "ackley_f(np.array(cso_f.get_Gbest()).reshape(-1, 1))"
   ]
  },
  {
   "cell_type": "code",
   "execution_count": 99,
   "metadata": {},
   "outputs": [
    {
     "data": {
      "text/plain": [
       "1.0000000000000004"
      ]
     },
     "execution_count": 99,
     "metadata": {},
     "output_type": "execute_result"
    }
   ],
   "source": [
    "ackley_f(np.array([.0]*10))"
   ]
  },
  {
   "cell_type": "code",
   "execution_count": 91,
   "metadata": {},
   "outputs": [],
   "source": [
    "cso_f = cso(n=50, function=weierstrass_f, lb=-20, ub=20, dimension=10, iteration=500, pa=0.5, nest=50)"
   ]
  },
  {
   "cell_type": "code",
   "execution_count": 92,
   "metadata": {},
   "outputs": [
    {
     "data": {
      "text/plain": [
       "(582.9665339736842,\n",
       " [5.648001708941793,\n",
       "  15.435363311065258,\n",
       "  -10.66052663607557,\n",
       "  20.0,\n",
       "  -4.37480856501463,\n",
       "  -20.0,\n",
       "  20.0,\n",
       "  5.008464461762428,\n",
       "  5.999610564551122,\n",
       "  20.0])"
      ]
     },
     "execution_count": 92,
     "metadata": {},
     "output_type": "execute_result"
    }
   ],
   "source": [
    "weierstrass_f(np.array(cso_f.get_Gbest()).reshape(-1, 1)), cso_f.get_Gbest()"
   ]
  },
  {
   "cell_type": "code",
   "execution_count": 80,
   "metadata": {},
   "outputs": [
    {
     "data": {
      "text/plain": [
       "580.0000190734863"
      ]
     },
     "execution_count": 80,
     "metadata": {},
     "output_type": "execute_result"
    }
   ],
   "source": [
    "weierstrass_f(np.array([.0]*10))"
   ]
  },
  {
   "cell_type": "code",
   "execution_count": 69,
   "metadata": {},
   "outputs": [],
   "source": [
    "ba_result = ba(n=50, function=ackley_f, fmax=1,V0=0.3, alpha=0.9, lb=-20, ub=20, dimension=10, iteration=200)"
   ]
  },
  {
   "cell_type": "code",
   "execution_count": 70,
   "metadata": {},
   "outputs": [
    {
     "data": {
      "text/plain": [
       "19.556088217675892"
      ]
     },
     "execution_count": 70,
     "metadata": {},
     "output_type": "execute_result"
    }
   ],
   "source": [
    "ackley_f(np.array(ba_result.get_Gbest()))"
   ]
  },
  {
   "cell_type": "code",
   "execution_count": null,
   "metadata": {},
   "outputs": [],
   "source": []
  }
 ],
 "metadata": {
  "kernelspec": {
   "display_name": "Python 3",
   "language": "python",
   "name": "python3"
  },
  "language_info": {
   "codemirror_mode": {
    "name": "ipython",
    "version": 3
   },
   "file_extension": ".py",
   "mimetype": "text/x-python",
   "name": "python",
   "nbconvert_exporter": "python",
   "pygments_lexer": "ipython3",
   "version": "3.6.9"
  }
 },
 "nbformat": 4,
 "nbformat_minor": 4
}
